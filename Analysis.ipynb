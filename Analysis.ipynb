{
 "cells": [
  {
   "cell_type": "code",
   "execution_count": 7,
   "metadata": {},
   "outputs": [],
   "source": [
    "import seaborn as sns\n",
    "import matplotlib.pyplot as plt\n",
    "%matplotlib inline \n",
    "import numpy as np\n",
    "import pandas as pd\n",
    "import sklearn\n",
    "from sklearn import linear_model\n",
    "from sklearn.model_selection import train_test_split\n",
    "import statsmodels.api as sm\n",
    "from scipy import stats\n",
    "from sklearn import tree"
   ]
 
 
   
   "source": [
    "pip install statsmodels"
   ]
  },
  {
   "cell_type": "code",
   "execution_count": null,
   "metadata": {},
   "outputs": [],
   "source": [
    "#Data Wrangling :"
   ]
  },
  {
   "cell_type": "code",
   "execution_count": 27,
   "metadata": {},
   "outputs": [],
   "source": [
    "url='https://archive.ics.uci.edu/ml/machine-learning-databases/auto-mpg/auto-mpg.data'\n",
    "names=['mpg','cylinders','displacement','horsepower','weight','acceleration','model year','origin','car name']\n",
    "#origin model year and cylinders is a discret variables"
   ]
  },
  {
   "cell_type": "code",
   "execution_count": 137,
   "metadata": {},
   "outputs": [
    {
     "data": {
      "text/html": [
       "<div>\n",
       "<style scoped>\n",
       "    .dataframe tbody tr th:only-of-type {\n",
       "        vertical-align: middle;\n",
       "    }\n",
       "\n",
       "    .dataframe tbody tr th {\n",
       "        vertical-align: top;\n",
       "    }\n",
       "\n",
       "    .dataframe thead th {\n",
       "        text-align: right;\n",
       "    }\n",
       "</style>\n",
       "<table border=\"1\" class=\"dataframe\">\n",
       "  <thead>\n",
       "    <tr style=\"text-align: right;\">\n",
       "      <th></th>\n",
       "      <th>mpg</th>\n",
       "      <th>cylinders</th>\n",
       "      <th>displacement</th>\n",
       "      <th>horsepower</th>\n",
       "      <th>weight</th>\n",
       "      <th>acceleration</th>\n",
       "      <th>model year</th>\n",
       "      <th>origin</th>\n",
       "      <th>car name</th>\n",
       "    </tr>\n",
       "  </thead>\n",
       "  <tbody>\n",
       "    <tr>\n",
       "      <th>0</th>\n",
       "      <td>18.0</td>\n",
       "      <td>8</td>\n",
       "      <td>307.0</td>\n",
       "      <td>130.0</td>\n",
       "      <td>3504.0</td>\n",
       "      <td>12.0</td>\n",
       "      <td>70</td>\n",
       "      <td>1</td>\n",
       "      <td>chevrolet chevelle malibu</td>\n",
       "    </tr>\n",
       "    <tr>\n",
       "      <th>1</th>\n",
       "      <td>15.0</td>\n",
       "      <td>8</td>\n",
       "      <td>350.0</td>\n",
       "      <td>165.0</td>\n",
       "      <td>3693.0</td>\n",
       "      <td>11.5</td>\n",
       "      <td>70</td>\n",
       "      <td>1</td>\n",
       "      <td>buick skylark 320</td>\n",
       "    </tr>\n",
       "    <tr>\n",
       "      <th>2</th>\n",
       "      <td>18.0</td>\n",
       "      <td>8</td>\n",
       "      <td>318.0</td>\n",
       "      <td>150.0</td>\n",
       "      <td>3436.0</td>\n",
       "      <td>11.0</td>\n",
       "      <td>70</td>\n",
       "      <td>1</td>\n",
       "      <td>plymouth satellite</td>\n",
       "    </tr>\n",
       "    <tr>\n",
       "      <th>3</th>\n",
       "      <td>16.0</td>\n",
       "      <td>8</td>\n",
       "      <td>304.0</td>\n",
       "      <td>150.0</td>\n",
       "      <td>3433.0</td>\n",
       "      <td>12.0</td>\n",
       "      <td>70</td>\n",
       "      <td>1</td>\n",
       "      <td>amc rebel sst</td>\n",
       "    </tr>\n",
       "    <tr>\n",
       "      <th>4</th>\n",
       "      <td>17.0</td>\n",
       "      <td>8</td>\n",
       "      <td>302.0</td>\n",
       "      <td>140.0</td>\n",
       "      <td>3449.0</td>\n",
       "      <td>10.5</td>\n",
       "      <td>70</td>\n",
       "      <td>1</td>\n",
       "      <td>ford torino</td>\n",
       "    </tr>\n",
       "  </tbody>\n",
       "</table>\n",
       "</div>"
      ],
      "text/plain": [
       "    mpg  cylinders  displacement horsepower  weight  acceleration  model year  \\\n",
       "0  18.0          8         307.0      130.0  3504.0          12.0          70   \n",
       "1  15.0          8         350.0      165.0  3693.0          11.5          70   \n",
       "2  18.0          8         318.0      150.0  3436.0          11.0          70   \n",
       "3  16.0          8         304.0      150.0  3433.0          12.0          70   \n",
       "4  17.0          8         302.0      140.0  3449.0          10.5          70   \n",
       "\n",
       "   origin                   car name  \n",
       "0       1  chevrolet chevelle malibu  \n",
       "1       1          buick skylark 320  \n",
       "2       1         plymouth satellite  \n",
       "3       1              amc rebel sst  \n",
       "4       1                ford torino  "
      ]
     },
     "execution_count": 137,
     "metadata": {},
     "output_type": "execute_result"
    }
   ],
   "source": [
    "df=pd.read_csv(url, header=None, delim_whitespace=True)\n",
    "df.columns=names\n",
    "df.head()"
   ]
  },
  {
   "cell_type": "code",
   "execution_count": 138,
   "metadata": {},
   "outputs": [
    {
     "data": {
      "text/plain": [
       "mpg             float64\n",
       "cylinders         int64\n",
       "displacement    float64\n",
       "horsepower       object\n",
       "weight          float64\n",
       "acceleration    float64\n",
       "model year        int64\n",
       "origin            int64\n",
       "car name         object\n",
       "dtype: object"
      ]
     },
     "execution_count": 138,
     "metadata": {},
     "output_type": "execute_result"
    }
   ],
   "source": [
    "df.dtypes"
   ]
  },
  {
   "cell_type": "code",
   "execution_count": 139,
   "metadata": {},
   "outputs": [],
   "source": [
    "#horsepower still an object, it needs to be turned to a continuous variable.\n",
    "#horsepower column is filled with str values"
   ]
  },
  {
   "cell_type": "code",
   "execution_count": 140,
   "metadata": {},
   "outputs": [
    {
     "data": {
      "text/html": [
       "<div>\n",
       "<style scoped>\n",
       "    .dataframe tbody tr th:only-of-type {\n",
       "        vertical-align: middle;\n",
       "    }\n",
       "\n",
       "    .dataframe tbody tr th {\n",
       "        vertical-align: top;\n",
       "    }\n",
       "\n",
       "    .dataframe thead th {\n",
       "        text-align: right;\n",
       "    }\n",
       "</style>\n",
       "<table border=\"1\" class=\"dataframe\">\n",
       "  <thead>\n",
       "    <tr style=\"text-align: right;\">\n",
       "      <th></th>\n",
       "      <th>mpg</th>\n",
       "      <th>cylinders</th>\n",
       "      <th>displacement</th>\n",
       "      <th>horsepower</th>\n",
       "      <th>weight</th>\n",
       "      <th>acceleration</th>\n",
       "      <th>model year</th>\n",
       "      <th>origin</th>\n",
       "      <th>car name</th>\n",
       "    </tr>\n",
       "  </thead>\n",
       "  <tbody>\n",
       "    <tr>\n",
       "      <th>32</th>\n",
       "      <td>25.0</td>\n",
       "      <td>4</td>\n",
       "      <td>98.0</td>\n",
       "      <td>?</td>\n",
       "      <td>2046.0</td>\n",
       "      <td>19.0</td>\n",
       "      <td>71</td>\n",
       "      <td>1</td>\n",
       "      <td>ford pinto</td>\n",
       "    </tr>\n",
       "    <tr>\n",
       "      <th>126</th>\n",
       "      <td>21.0</td>\n",
       "      <td>6</td>\n",
       "      <td>200.0</td>\n",
       "      <td>?</td>\n",
       "      <td>2875.0</td>\n",
       "      <td>17.0</td>\n",
       "      <td>74</td>\n",
       "      <td>1</td>\n",
       "      <td>ford maverick</td>\n",
       "    </tr>\n",
       "    <tr>\n",
       "      <th>330</th>\n",
       "      <td>40.9</td>\n",
       "      <td>4</td>\n",
       "      <td>85.0</td>\n",
       "      <td>?</td>\n",
       "      <td>1835.0</td>\n",
       "      <td>17.3</td>\n",
       "      <td>80</td>\n",
       "      <td>2</td>\n",
       "      <td>renault lecar deluxe</td>\n",
       "    </tr>\n",
       "    <tr>\n",
       "      <th>336</th>\n",
       "      <td>23.6</td>\n",
       "      <td>4</td>\n",
       "      <td>140.0</td>\n",
       "      <td>?</td>\n",
       "      <td>2905.0</td>\n",
       "      <td>14.3</td>\n",
       "      <td>80</td>\n",
       "      <td>1</td>\n",
       "      <td>ford mustang cobra</td>\n",
       "    </tr>\n",
       "    <tr>\n",
       "      <th>354</th>\n",
       "      <td>34.5</td>\n",
       "      <td>4</td>\n",
       "      <td>100.0</td>\n",
       "      <td>?</td>\n",
       "      <td>2320.0</td>\n",
       "      <td>15.8</td>\n",
       "      <td>81</td>\n",
       "      <td>2</td>\n",
       "      <td>renault 18i</td>\n",
       "    </tr>\n",
       "    <tr>\n",
       "      <th>374</th>\n",
       "      <td>23.0</td>\n",
       "      <td>4</td>\n",
       "      <td>151.0</td>\n",
       "      <td>?</td>\n",
       "      <td>3035.0</td>\n",
       "      <td>20.5</td>\n",
       "      <td>82</td>\n",
       "      <td>1</td>\n",
       "      <td>amc concord dl</td>\n",
       "    </tr>\n",
       "  </tbody>\n",
       "</table>\n",
       "</div>"
      ],
      "text/plain": [
       "      mpg  cylinders  displacement horsepower  weight  acceleration  \\\n",
       "32   25.0          4          98.0          ?  2046.0          19.0   \n",
       "126  21.0          6         200.0          ?  2875.0          17.0   \n",
       "330  40.9          4          85.0          ?  1835.0          17.3   \n",
       "336  23.6          4         140.0          ?  2905.0          14.3   \n",
       "354  34.5          4         100.0          ?  2320.0          15.8   \n",
       "374  23.0          4         151.0          ?  3035.0          20.5   \n",
       "\n",
       "     model year  origin              car name  \n",
       "32           71       1            ford pinto  \n",
       "126          74       1         ford maverick  \n",
       "330          80       2  renault lecar deluxe  \n",
       "336          80       1    ford mustang cobra  \n",
       "354          81       2           renault 18i  \n",
       "374          82       1        amc concord dl  "
      ]
     },
     "execution_count": 140,
     "metadata": {},
     "output_type": "execute_result"
    }
   ],
   "source": [
    "df.loc[df.horsepower=='?']"
   ]
  },
  {
   "cell_type": "code",
   "execution_count": 141,
   "metadata": {},
   "outputs": [
    {
     "data": {
      "text/plain": [
       "mpg             float64\n",
       "cylinders         int64\n",
       "displacement    float64\n",
       "horsepower       object\n",
       "weight          float64\n",
       "acceleration    float64\n",
       "model year        int64\n",
       "origin            int64\n",
       "car name         object\n",
       "dtype: object"
      ]
     },
     "execution_count": 141,
     "metadata": {},
     "output_type": "execute_result"
    }
   ],
   "source": [
    "df.dtypes\n",
    "#the original type of the horsepower columns is str, we should handle it."
   ]
  },
  {
   "cell_type": "code",
   "execution_count": 142,
   "metadata": {},
   "outputs": [
    {
     "data": {
      "text/html": [
       "<div>\n",
       "<style scoped>\n",
       "    .dataframe tbody tr th:only-of-type {\n",
       "        vertical-align: middle;\n",
       "    }\n",
       "\n",
       "    .dataframe tbody tr th {\n",
       "        vertical-align: top;\n",
       "    }\n",
       "\n",
       "    .dataframe thead th {\n",
       "        text-align: right;\n",
       "    }\n",
       "</style>\n",
       "<table border=\"1\" class=\"dataframe\">\n",
       "  <thead>\n",
       "    <tr style=\"text-align: right;\">\n",
       "      <th></th>\n",
       "      <th>mpg</th>\n",
       "      <th>cylinders</th>\n",
       "      <th>displacement</th>\n",
       "      <th>horsepower</th>\n",
       "      <th>weight</th>\n",
       "      <th>acceleration</th>\n",
       "      <th>model year</th>\n",
       "      <th>origin</th>\n",
       "      <th>car name</th>\n",
       "    </tr>\n",
       "  </thead>\n",
       "  <tbody>\n",
       "    <tr>\n",
       "      <th>0</th>\n",
       "      <td>18.0</td>\n",
       "      <td>8</td>\n",
       "      <td>307.0</td>\n",
       "      <td>130.0</td>\n",
       "      <td>3504.0</td>\n",
       "      <td>12.0</td>\n",
       "      <td>70</td>\n",
       "      <td>1</td>\n",
       "      <td>chevrolet chevelle malibu</td>\n",
       "    </tr>\n",
       "    <tr>\n",
       "      <th>1</th>\n",
       "      <td>15.0</td>\n",
       "      <td>8</td>\n",
       "      <td>350.0</td>\n",
       "      <td>165.0</td>\n",
       "      <td>3693.0</td>\n",
       "      <td>11.5</td>\n",
       "      <td>70</td>\n",
       "      <td>1</td>\n",
       "      <td>buick skylark 320</td>\n",
       "    </tr>\n",
       "    <tr>\n",
       "      <th>2</th>\n",
       "      <td>18.0</td>\n",
       "      <td>8</td>\n",
       "      <td>318.0</td>\n",
       "      <td>150.0</td>\n",
       "      <td>3436.0</td>\n",
       "      <td>11.0</td>\n",
       "      <td>70</td>\n",
       "      <td>1</td>\n",
       "      <td>plymouth satellite</td>\n",
       "    </tr>\n",
       "    <tr>\n",
       "      <th>3</th>\n",
       "      <td>16.0</td>\n",
       "      <td>8</td>\n",
       "      <td>304.0</td>\n",
       "      <td>150.0</td>\n",
       "      <td>3433.0</td>\n",
       "      <td>12.0</td>\n",
       "      <td>70</td>\n",
       "      <td>1</td>\n",
       "      <td>amc rebel sst</td>\n",
       "    </tr>\n",
       "    <tr>\n",
       "      <th>4</th>\n",
       "      <td>17.0</td>\n",
       "      <td>8</td>\n",
       "      <td>302.0</td>\n",
       "      <td>140.0</td>\n",
       "      <td>3449.0</td>\n",
       "      <td>10.5</td>\n",
       "      <td>70</td>\n",
       "      <td>1</td>\n",
       "      <td>ford torino</td>\n",
       "    </tr>\n",
       "    <tr>\n",
       "      <th>...</th>\n",
       "      <td>...</td>\n",
       "      <td>...</td>\n",
       "      <td>...</td>\n",
       "      <td>...</td>\n",
       "      <td>...</td>\n",
       "      <td>...</td>\n",
       "      <td>...</td>\n",
       "      <td>...</td>\n",
       "      <td>...</td>\n",
       "    </tr>\n",
       "    <tr>\n",
       "      <th>393</th>\n",
       "      <td>27.0</td>\n",
       "      <td>4</td>\n",
       "      <td>140.0</td>\n",
       "      <td>86.0</td>\n",
       "      <td>2790.0</td>\n",
       "      <td>15.6</td>\n",
       "      <td>82</td>\n",
       "      <td>1</td>\n",
       "      <td>ford mustang gl</td>\n",
       "    </tr>\n",
       "    <tr>\n",
       "      <th>394</th>\n",
       "      <td>44.0</td>\n",
       "      <td>4</td>\n",
       "      <td>97.0</td>\n",
       "      <td>52.0</td>\n",
       "      <td>2130.0</td>\n",
       "      <td>24.6</td>\n",
       "      <td>82</td>\n",
       "      <td>2</td>\n",
       "      <td>vw pickup</td>\n",
       "    </tr>\n",
       "    <tr>\n",
       "      <th>395</th>\n",
       "      <td>32.0</td>\n",
       "      <td>4</td>\n",
       "      <td>135.0</td>\n",
       "      <td>84.0</td>\n",
       "      <td>2295.0</td>\n",
       "      <td>11.6</td>\n",
       "      <td>82</td>\n",
       "      <td>1</td>\n",
       "      <td>dodge rampage</td>\n",
       "    </tr>\n",
       "    <tr>\n",
       "      <th>396</th>\n",
       "      <td>28.0</td>\n",
       "      <td>4</td>\n",
       "      <td>120.0</td>\n",
       "      <td>79.0</td>\n",
       "      <td>2625.0</td>\n",
       "      <td>18.6</td>\n",
       "      <td>82</td>\n",
       "      <td>1</td>\n",
       "      <td>ford ranger</td>\n",
       "    </tr>\n",
       "    <tr>\n",
       "      <th>397</th>\n",
       "      <td>31.0</td>\n",
       "      <td>4</td>\n",
       "      <td>119.0</td>\n",
       "      <td>82.0</td>\n",
       "      <td>2720.0</td>\n",
       "      <td>19.4</td>\n",
       "      <td>82</td>\n",
       "      <td>1</td>\n",
       "      <td>chevy s-10</td>\n",
       "    </tr>\n",
       "  </tbody>\n",
       "</table>\n",
       "<p>398 rows × 9 columns</p>\n",
       "</div>"
      ],
      "text/plain": [
       "      mpg  cylinders  displacement  horsepower  weight  acceleration  \\\n",
       "0    18.0          8         307.0       130.0  3504.0          12.0   \n",
       "1    15.0          8         350.0       165.0  3693.0          11.5   \n",
       "2    18.0          8         318.0       150.0  3436.0          11.0   \n",
       "3    16.0          8         304.0       150.0  3433.0          12.0   \n",
       "4    17.0          8         302.0       140.0  3449.0          10.5   \n",
       "..    ...        ...           ...         ...     ...           ...   \n",
       "393  27.0          4         140.0        86.0  2790.0          15.6   \n",
       "394  44.0          4          97.0        52.0  2130.0          24.6   \n",
       "395  32.0          4         135.0        84.0  2295.0          11.6   \n",
       "396  28.0          4         120.0        79.0  2625.0          18.6   \n",
       "397  31.0          4         119.0        82.0  2720.0          19.4   \n",
       "\n",
       "     model year  origin                   car name  \n",
       "0            70       1  chevrolet chevelle malibu  \n",
       "1            70       1          buick skylark 320  \n",
       "2            70       1         plymouth satellite  \n",
       "3            70       1              amc rebel sst  \n",
       "4            70       1                ford torino  \n",
       "..          ...     ...                        ...  \n",
       "393          82       1            ford mustang gl  \n",
       "394          82       2                  vw pickup  \n",
       "395          82       1              dodge rampage  \n",
       "396          82       1                ford ranger  \n",
       "397          82       1                 chevy s-10  \n",
       "\n",
       "[398 rows x 9 columns]"
      ]
     },
     "execution_count": 142,
     "metadata": {},
     "output_type": "execute_result"
    }
   ],
   "source": [
    "df['horsepower'].replace(to_replace='?',value='0', inplace=True)# turn the '?' values to '0'\n",
    "df[['horsepower']]=df[['horsepower']].astype('float')#changing the type from str to float\n",
    "df['horsepower'].replace(to_replace=np.NaN, value=df['horsepower'].mean(), inplace=True)#replacing 0 with NaN in numpy \n",
    "df.fillna(df.mean(skipna=True)) #fill the NaN in all the columns"
   ]
  },
  {
   "cell_type": "code",
   "execution_count": 143,
   "metadata": {},
   "outputs": [
    {
     "data": {
      "text/html": [
       "<div>\n",
       "<style scoped>\n",
       "    .dataframe tbody tr th:only-of-type {\n",
       "        vertical-align: middle;\n",
       "    }\n",
       "\n",
       "    .dataframe tbody tr th {\n",
       "        vertical-align: top;\n",
       "    }\n",
       "\n",
       "    .dataframe thead th {\n",
       "        text-align: right;\n",
       "    }\n",
       "</style>\n",
       "<table border=\"1\" class=\"dataframe\">\n",
       "  <thead>\n",
       "    <tr style=\"text-align: right;\">\n",
       "      <th></th>\n",
       "      <th>mpg</th>\n",
       "      <th>cylinders</th>\n",
       "      <th>displacement</th>\n",
       "      <th>horsepower</th>\n",
       "      <th>weight</th>\n",
       "      <th>acceleration</th>\n",
       "      <th>model year</th>\n",
       "      <th>origin</th>\n",
       "      <th>car name</th>\n",
       "    </tr>\n",
       "  </thead>\n",
       "  <tbody>\n",
       "  </tbody>\n",
       "</table>\n",
       "</div>"
      ],
      "text/plain": [
       "Empty DataFrame\n",
       "Columns: [mpg, cylinders, displacement, horsepower, weight, acceleration, model year, origin, car name]\n",
       "Index: []"
      ]
     },
     "execution_count": 143,
     "metadata": {},
     "output_type": "execute_result"
    }
   ],
   "source": [
    "df.loc[df.horsepower==np.NaN ] #as we can see there's no more 0 value for horsepower features"
   ]
  },
  {
   "cell_type": "code",
   "execution_count": 144,
   "metadata": {},
   "outputs": [
    {
     "data": {
      "text/plain": [
       "mpg             float64\n",
       "cylinders         int64\n",
       "displacement    float64\n",
       "horsepower      float64\n",
       "weight          float64\n",
       "acceleration    float64\n",
       "model year        int64\n",
       "origin            int64\n",
       "car name         object\n",
       "dtype: object"
      ]
     },
     "execution_count": 144,
     "metadata": {},
     "output_type": "execute_result"
    }
   ],
   "source": [
    "df.dtypes\n",
    "#everything seems good now"
   ]
  },
  {
   "cell_type": "code",
   "execution_count": 145,
   "metadata": {},
   "outputs": [
    {
     "data": {
      "text/plain": [
       "mpg             0\n",
       "cylinders       0\n",
       "displacement    0\n",
       "horsepower      0\n",
       "weight          0\n",
       "acceleration    0\n",
       "model year      0\n",
       "origin          0\n",
       "car name        0\n",
       "dtype: int64"
      ]
     },
     "execution_count": 145,
     "metadata": {},
     "output_type": "execute_result"
    }
   ],
   "source": [
    "df.isnull().sum()\n",
    "#all the NaN values are filled in "
   ]
  },
  {
   "cell_type": "code",
   "execution_count": 146,
   "metadata": {},
   "outputs": [
    {
     "data": {
      "text/html": [
       "<div>\n",
       "<style scoped>\n",
       "    .dataframe tbody tr th:only-of-type {\n",
       "        vertical-align: middle;\n",
       "    }\n",
       "\n",
       "    .dataframe tbody tr th {\n",
       "        vertical-align: top;\n",
       "    }\n",
       "\n",
       "    .dataframe thead th {\n",
       "        text-align: right;\n",
       "    }\n",
       "</style>\n",
       "<table border=\"1\" class=\"dataframe\">\n",
       "  <thead>\n",
       "    <tr style=\"text-align: right;\">\n",
       "      <th></th>\n",
       "      <th>mpg</th>\n",
       "      <th>cylinders</th>\n",
       "      <th>displacement</th>\n",
       "      <th>horsepower</th>\n",
       "      <th>weight</th>\n",
       "      <th>acceleration</th>\n",
       "      <th>model year</th>\n",
       "      <th>origin</th>\n",
       "    </tr>\n",
       "  </thead>\n",
       "  <tbody>\n",
       "    <tr>\n",
       "      <th>count</th>\n",
       "      <td>398.000000</td>\n",
       "      <td>398.000000</td>\n",
       "      <td>398.000000</td>\n",
       "      <td>398.000000</td>\n",
       "      <td>398.000000</td>\n",
       "      <td>398.000000</td>\n",
       "      <td>398.000000</td>\n",
       "      <td>398.000000</td>\n",
       "    </tr>\n",
       "    <tr>\n",
       "      <th>mean</th>\n",
       "      <td>23.514573</td>\n",
       "      <td>5.454774</td>\n",
       "      <td>193.425879</td>\n",
       "      <td>102.894472</td>\n",
       "      <td>2970.424623</td>\n",
       "      <td>15.568090</td>\n",
       "      <td>76.010050</td>\n",
       "      <td>1.572864</td>\n",
       "    </tr>\n",
       "    <tr>\n",
       "      <th>std</th>\n",
       "      <td>7.815984</td>\n",
       "      <td>1.701004</td>\n",
       "      <td>104.269838</td>\n",
       "      <td>40.269544</td>\n",
       "      <td>846.841774</td>\n",
       "      <td>2.757689</td>\n",
       "      <td>3.697627</td>\n",
       "      <td>0.802055</td>\n",
       "    </tr>\n",
       "    <tr>\n",
       "      <th>min</th>\n",
       "      <td>9.000000</td>\n",
       "      <td>3.000000</td>\n",
       "      <td>68.000000</td>\n",
       "      <td>0.000000</td>\n",
       "      <td>1613.000000</td>\n",
       "      <td>8.000000</td>\n",
       "      <td>70.000000</td>\n",
       "      <td>1.000000</td>\n",
       "    </tr>\n",
       "    <tr>\n",
       "      <th>25%</th>\n",
       "      <td>17.500000</td>\n",
       "      <td>4.000000</td>\n",
       "      <td>104.250000</td>\n",
       "      <td>75.000000</td>\n",
       "      <td>2223.750000</td>\n",
       "      <td>13.825000</td>\n",
       "      <td>73.000000</td>\n",
       "      <td>1.000000</td>\n",
       "    </tr>\n",
       "    <tr>\n",
       "      <th>50%</th>\n",
       "      <td>23.000000</td>\n",
       "      <td>4.000000</td>\n",
       "      <td>148.500000</td>\n",
       "      <td>92.000000</td>\n",
       "      <td>2803.500000</td>\n",
       "      <td>15.500000</td>\n",
       "      <td>76.000000</td>\n",
       "      <td>1.000000</td>\n",
       "    </tr>\n",
       "    <tr>\n",
       "      <th>75%</th>\n",
       "      <td>29.000000</td>\n",
       "      <td>8.000000</td>\n",
       "      <td>262.000000</td>\n",
       "      <td>125.000000</td>\n",
       "      <td>3608.000000</td>\n",
       "      <td>17.175000</td>\n",
       "      <td>79.000000</td>\n",
       "      <td>2.000000</td>\n",
       "    </tr>\n",
       "    <tr>\n",
       "      <th>max</th>\n",
       "      <td>46.600000</td>\n",
       "      <td>8.000000</td>\n",
       "      <td>455.000000</td>\n",
       "      <td>230.000000</td>\n",
       "      <td>5140.000000</td>\n",
       "      <td>24.800000</td>\n",
       "      <td>82.000000</td>\n",
       "      <td>3.000000</td>\n",
       "    </tr>\n",
       "  </tbody>\n",
       "</table>\n",
       "</div>"
      ],
      "text/plain": [
       "              mpg   cylinders  displacement  horsepower       weight  \\\n",
       "count  398.000000  398.000000    398.000000  398.000000   398.000000   \n",
       "mean    23.514573    5.454774    193.425879  102.894472  2970.424623   \n",
       "std      7.815984    1.701004    104.269838   40.269544   846.841774   \n",
       "min      9.000000    3.000000     68.000000    0.000000  1613.000000   \n",
       "25%     17.500000    4.000000    104.250000   75.000000  2223.750000   \n",
       "50%     23.000000    4.000000    148.500000   92.000000  2803.500000   \n",
       "75%     29.000000    8.000000    262.000000  125.000000  3608.000000   \n",
       "max     46.600000    8.000000    455.000000  230.000000  5140.000000   \n",
       "\n",
       "       acceleration  model year      origin  \n",
       "count    398.000000  398.000000  398.000000  \n",
       "mean      15.568090   76.010050    1.572864  \n",
       "std        2.757689    3.697627    0.802055  \n",
       "min        8.000000   70.000000    1.000000  \n",
       "25%       13.825000   73.000000    1.000000  \n",
       "50%       15.500000   76.000000    1.000000  \n",
       "75%       17.175000   79.000000    2.000000  \n",
       "max       24.800000   82.000000    3.000000  "
      ]
     },
     "execution_count": 146,
     "metadata": {},
     "output_type": "execute_result"
    }
   ],
   "source": [
    "df.describe()"
   ]
  },
  {
   "cell_type": "code",
   "execution_count": 147,
   "metadata": {},
   "outputs": [
    {
     "data": {
      "text/plain": [
       "(22.74669838467897, 24.282447343964243)"
      ]
     },
     "execution_count": 147,
     "metadata": {},
     "output_type": "execute_result"
    }
   ],
   "source": [
    "sm.stats.DescrStatsW(df[\"mpg\"]).zconfint_mean()\n",
    "#With 95% confidence level, the mpg mean is estimated to be between 22.74669838467897 and 24.282447343964243"
   ]
  },
  {
   "cell_type": "code",
   "execution_count": 148,
   "metadata": {},
   "outputs": [
    {
     "data": {
      "text/plain": [
       "count            398\n",
       "unique           305\n",
       "top       ford pinto\n",
       "freq               6\n",
       "Name: car name, dtype: object"
      ]
     },
     "execution_count": 148,
     "metadata": {},
     "output_type": "execute_result"
    }
   ],
   "source": [
    "df['car name'].describe()"
   ]
  },
  {
   "cell_type": "code",
   "execution_count": 149,
   "metadata": {},
   "outputs": [
    {
     "data": {
      "text/html": [
       "<div>\n",
       "<style scoped>\n",
       "    .dataframe tbody tr th:only-of-type {\n",
       "        vertical-align: middle;\n",
       "    }\n",
       "\n",
       "    .dataframe tbody tr th {\n",
       "        vertical-align: top;\n",
       "    }\n",
       "\n",
       "    .dataframe thead th {\n",
       "        text-align: right;\n",
       "    }\n",
       "</style>\n",
       "<table border=\"1\" class=\"dataframe\">\n",
       "  <thead>\n",
       "    <tr style=\"text-align: right;\">\n",
       "      <th></th>\n",
       "      <th>mpg</th>\n",
       "      <th>cylinders</th>\n",
       "      <th>displacement</th>\n",
       "      <th>horsepower</th>\n",
       "      <th>weight</th>\n",
       "      <th>acceleration</th>\n",
       "      <th>model year</th>\n",
       "      <th>origin</th>\n",
       "    </tr>\n",
       "  </thead>\n",
       "  <tbody>\n",
       "    <tr>\n",
       "      <th>mpg</th>\n",
       "      <td>1.000000</td>\n",
       "      <td>-0.775396</td>\n",
       "      <td>-0.804203</td>\n",
       "      <td>-0.754276</td>\n",
       "      <td>-0.831741</td>\n",
       "      <td>0.420289</td>\n",
       "      <td>0.579267</td>\n",
       "      <td>0.563450</td>\n",
       "    </tr>\n",
       "    <tr>\n",
       "      <th>cylinders</th>\n",
       "      <td>-0.775396</td>\n",
       "      <td>1.000000</td>\n",
       "      <td>0.950721</td>\n",
       "      <td>0.821656</td>\n",
       "      <td>0.896017</td>\n",
       "      <td>-0.505419</td>\n",
       "      <td>-0.348746</td>\n",
       "      <td>-0.562543</td>\n",
       "    </tr>\n",
       "    <tr>\n",
       "      <th>displacement</th>\n",
       "      <td>-0.804203</td>\n",
       "      <td>0.950721</td>\n",
       "      <td>1.000000</td>\n",
       "      <td>0.871927</td>\n",
       "      <td>0.932824</td>\n",
       "      <td>-0.543684</td>\n",
       "      <td>-0.370164</td>\n",
       "      <td>-0.609409</td>\n",
       "    </tr>\n",
       "    <tr>\n",
       "      <th>horsepower</th>\n",
       "      <td>-0.754276</td>\n",
       "      <td>0.821656</td>\n",
       "      <td>0.871927</td>\n",
       "      <td>1.000000</td>\n",
       "      <td>0.837987</td>\n",
       "      <td>-0.673940</td>\n",
       "      <td>-0.411587</td>\n",
       "      <td>-0.418636</td>\n",
       "    </tr>\n",
       "    <tr>\n",
       "      <th>weight</th>\n",
       "      <td>-0.831741</td>\n",
       "      <td>0.896017</td>\n",
       "      <td>0.932824</td>\n",
       "      <td>0.837987</td>\n",
       "      <td>1.000000</td>\n",
       "      <td>-0.417457</td>\n",
       "      <td>-0.306564</td>\n",
       "      <td>-0.581024</td>\n",
       "    </tr>\n",
       "    <tr>\n",
       "      <th>acceleration</th>\n",
       "      <td>0.420289</td>\n",
       "      <td>-0.505419</td>\n",
       "      <td>-0.543684</td>\n",
       "      <td>-0.673940</td>\n",
       "      <td>-0.417457</td>\n",
       "      <td>1.000000</td>\n",
       "      <td>0.288137</td>\n",
       "      <td>0.205873</td>\n",
       "    </tr>\n",
       "    <tr>\n",
       "      <th>model year</th>\n",
       "      <td>0.579267</td>\n",
       "      <td>-0.348746</td>\n",
       "      <td>-0.370164</td>\n",
       "      <td>-0.411587</td>\n",
       "      <td>-0.306564</td>\n",
       "      <td>0.288137</td>\n",
       "      <td>1.000000</td>\n",
       "      <td>0.180662</td>\n",
       "    </tr>\n",
       "    <tr>\n",
       "      <th>origin</th>\n",
       "      <td>0.563450</td>\n",
       "      <td>-0.562543</td>\n",
       "      <td>-0.609409</td>\n",
       "      <td>-0.418636</td>\n",
       "      <td>-0.581024</td>\n",
       "      <td>0.205873</td>\n",
       "      <td>0.180662</td>\n",
       "      <td>1.000000</td>\n",
       "    </tr>\n",
       "  </tbody>\n",
       "</table>\n",
       "</div>"
      ],
      "text/plain": [
       "                   mpg  cylinders  displacement  horsepower    weight  \\\n",
       "mpg           1.000000  -0.775396     -0.804203   -0.754276 -0.831741   \n",
       "cylinders    -0.775396   1.000000      0.950721    0.821656  0.896017   \n",
       "displacement -0.804203   0.950721      1.000000    0.871927  0.932824   \n",
       "horsepower   -0.754276   0.821656      0.871927    1.000000  0.837987   \n",
       "weight       -0.831741   0.896017      0.932824    0.837987  1.000000   \n",
       "acceleration  0.420289  -0.505419     -0.543684   -0.673940 -0.417457   \n",
       "model year    0.579267  -0.348746     -0.370164   -0.411587 -0.306564   \n",
       "origin        0.563450  -0.562543     -0.609409   -0.418636 -0.581024   \n",
       "\n",
       "              acceleration  model year    origin  \n",
       "mpg               0.420289    0.579267  0.563450  \n",
       "cylinders        -0.505419   -0.348746 -0.562543  \n",
       "displacement     -0.543684   -0.370164 -0.609409  \n",
       "horsepower       -0.673940   -0.411587 -0.418636  \n",
       "weight           -0.417457   -0.306564 -0.581024  \n",
       "acceleration      1.000000    0.288137  0.205873  \n",
       "model year        0.288137    1.000000  0.180662  \n",
       "origin            0.205873    0.180662  1.000000  "
      ]
     },
     "execution_count": 149,
     "metadata": {},
     "output_type": "execute_result"
    }
   ],
   "source": [
    "df.corr()"
   ]
  },
  {
   "cell_type": "code",
   "execution_count": 150,
   "metadata": {},
   "outputs": [
    {
     "data": {
      "image/png": "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\n",
      "text/plain": [
       "<Figure size 842.4x595.44 with 2 Axes>"
      ]
     },
     "metadata": {},
     "output_type": "display_data"
    }
   ],
   "source": [
    "#let plot a heat map of correlation\n",
    "correlation_matrix = df.corr().round(2)\n",
    "sns.set(rc={'figure.figsize':(11.7,8.27)})\n",
    "sns.heatmap(data=correlation_matrix, annot=True)\n",
    "plt.show()"
   ]
  },
  {
   "cell_type": "code",
   "execution_count": 151,
   "metadata": {},
   "outputs": [],
   "source": [
    "#our target value is 'mpg', according to the heatmap we can see the dependents variables weight horsepower displacement\n",
    "#cylinders is a multi-valued discrete"
   ]
  },
  {
   "cell_type": "code",
   "execution_count": 152,
   "metadata": {},
   "outputs": [
    {
     "data": {
      "image/png": "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\n",
      "text/plain": [
       "<Figure size 1440x360 with 3 Axes>"
      ]
     },
     "metadata": {},
     "output_type": "display_data"
    }
   ],
   "source": [
    "#ploting at the same time methods\n",
    "plt.figure(figsize=(20, 5))\n",
    "\n",
    "features = ['horsepower', 'displacement','weight']\n",
    "target = df['mpg']\n",
    "\n",
    "for i, col in enumerate(features):\n",
    "    plt.subplot(1, len(features) , i+1)\n",
    "    x = df[col]\n",
    "    y = target\n",
    "    sns.regplot(x, y, marker='o')\n",
    "    plt.title(col)\n",
    "    plt.xlabel(col)\n",
    "    plt.ylabel('mpg')"
   ]
  },
  {
   "cell_type": "code",
   "execution_count": 153,
   "metadata": {},
   "outputs": [],
   "source": [
    "#sklearn methods for data frame spliting to train and test df. "
   ]
  },
  {
   "cell_type": "code",
   "execution_count": 154,
   "metadata": {},
   "outputs": [],
   "source": [
    "yl = df.mpg\n",
    "Xl = df[['horsepower','displacement','weight']]\n"
   ]
  },
  {
   "cell_type": "code",
   "execution_count": 155,
   "metadata": {},
   "outputs": [
    {
     "data": {
      "text/html": [
       "<div>\n",
       "<style scoped>\n",
       "    .dataframe tbody tr th:only-of-type {\n",
       "        vertical-align: middle;\n",
       "    }\n",
       "\n",
       "    .dataframe tbody tr th {\n",
       "        vertical-align: top;\n",
       "    }\n",
       "\n",
       "    .dataframe thead th {\n",
       "        text-align: right;\n",
       "    }\n",
       "</style>\n",
       "<table border=\"1\" class=\"dataframe\">\n",
       "  <thead>\n",
       "    <tr style=\"text-align: right;\">\n",
       "      <th></th>\n",
       "      <th>horsepower</th>\n",
       "      <th>displacement</th>\n",
       "      <th>weight</th>\n",
       "    </tr>\n",
       "  </thead>\n",
       "  <tbody>\n",
       "    <tr>\n",
       "      <th>0</th>\n",
       "      <td>75.0</td>\n",
       "      <td>97.0</td>\n",
       "      <td>2265.0</td>\n",
       "    </tr>\n",
       "    <tr>\n",
       "      <th>1</th>\n",
       "      <td>175.0</td>\n",
       "      <td>400.0</td>\n",
       "      <td>5140.0</td>\n",
       "    </tr>\n",
       "    <tr>\n",
       "      <th>2</th>\n",
       "      <td>74.0</td>\n",
       "      <td>120.0</td>\n",
       "      <td>2635.0</td>\n",
       "    </tr>\n",
       "    <tr>\n",
       "      <th>3</th>\n",
       "      <td>110.0</td>\n",
       "      <td>258.0</td>\n",
       "      <td>2962.0</td>\n",
       "    </tr>\n",
       "    <tr>\n",
       "      <th>4</th>\n",
       "      <td>180.0</td>\n",
       "      <td>400.0</td>\n",
       "      <td>4220.0</td>\n",
       "    </tr>\n",
       "    <tr>\n",
       "      <th>...</th>\n",
       "      <td>...</td>\n",
       "      <td>...</td>\n",
       "      <td>...</td>\n",
       "    </tr>\n",
       "    <tr>\n",
       "      <th>75</th>\n",
       "      <td>110.0</td>\n",
       "      <td>231.0</td>\n",
       "      <td>3415.0</td>\n",
       "    </tr>\n",
       "    <tr>\n",
       "      <th>76</th>\n",
       "      <td>100.0</td>\n",
       "      <td>119.0</td>\n",
       "      <td>2615.0</td>\n",
       "    </tr>\n",
       "    <tr>\n",
       "      <th>77</th>\n",
       "      <td>140.0</td>\n",
       "      <td>302.0</td>\n",
       "      <td>4638.0</td>\n",
       "    </tr>\n",
       "    <tr>\n",
       "      <th>78</th>\n",
       "      <td>82.0</td>\n",
       "      <td>119.0</td>\n",
       "      <td>2720.0</td>\n",
       "    </tr>\n",
       "    <tr>\n",
       "      <th>79</th>\n",
       "      <td>135.0</td>\n",
       "      <td>318.0</td>\n",
       "      <td>3830.0</td>\n",
       "    </tr>\n",
       "  </tbody>\n",
       "</table>\n",
       "<p>80 rows × 3 columns</p>\n",
       "</div>"
      ],
      "text/plain": [
       "    horsepower  displacement  weight\n",
       "0         75.0          97.0  2265.0\n",
       "1        175.0         400.0  5140.0\n",
       "2         74.0         120.0  2635.0\n",
       "3        110.0         258.0  2962.0\n",
       "4        180.0         400.0  4220.0\n",
       "..         ...           ...     ...\n",
       "75       110.0         231.0  3415.0\n",
       "76       100.0         119.0  2615.0\n",
       "77       140.0         302.0  4638.0\n",
       "78        82.0         119.0  2720.0\n",
       "79       135.0         318.0  3830.0\n",
       "\n",
       "[80 rows x 3 columns]"
      ]
     },
     "execution_count": 155,
     "metadata": {},
     "output_type": "execute_result"
    }
   ],
   "source": [
    "Xl_train, Xl_test, yl_train, yl_test = sklearn.model_selection.train_test_split(Xl, yl, test_size=0.2)\n",
    "Xl_train.reset_index(drop = True) # reset_index only for reindexing because of some probleme on the 1st indexing\n",
    "Xl_test.reset_index(drop = True)  # reset_index only for reindexing because of some probleme on the 1st indexing"
   ]
  },
  {
   "cell_type": "code",
   "execution_count": 221,
   "metadata": {},
   "outputs": [],
   "source": [
    "#Numpy methods to data splitting \n",
    "target_features = df[['horsepower', 'displacement','weight','mpg']]\n",
    "\n",
    "msk = np.random.rand(len(df)) < 0.8\n",
    "train = target_features[msk] #80% portion of df\n",
    "test = target_features[~msk] #20% (the rest)\n",
    "\n",
    "train_x= np.asanyarray(train[['horsepower', 'displacement','weight']])\n",
    "train_y= np.asanyarray(train[['mpg']])"
   ]
  },
  {
   "cell_type": "code",
   "execution_count": 222,
   "metadata": {},
   "outputs": [],
   "source": [
    "#we need to fit the variables on a lineare regression model so we creat a LinearRegression object\n",
    "regr=linear_model.LinearRegression()"
   ]
  },
  {
   "cell_type": "code",
   "execution_count": 223,
   "metadata": {},
   "outputs": [
    {
     "data": {
      "text/plain": [
       "LinearRegression(copy_X=True, fit_intercept=True, n_jobs=None,\n",
       "         normalize=False)"
      ]
     },
     "execution_count": 223,
     "metadata": {},
     "output_type": "execute_result"
    }
   ],
   "source": [
    "regr.fit(Xl_train,yl_train) #regr.fit(train_x,train_y)\n",
    "regr\n",
    "#the model is well fitted now let test it"
   ]
  },
  {
   "cell_type": "code",
   "execution_count": 224,
   "metadata": {},
   "outputs": [
    {
     "data": {
      "text/plain": [
       "(array([28.95123536,  7.3471388 , 26.72308782, 22.88652374, 12.49912474,\n",
       "        21.85605172, 27.90857642, 30.55513121, 11.31018153, 30.83819915,\n",
       "         8.12926045, 18.44510659, 19.41407374, 30.9390448 , 24.41109837,\n",
       "        27.02149605, 29.46916576, 25.4175621 , 22.5845539 , 32.28285341,\n",
       "        23.88233754,  9.79414   , 18.78022116, 25.23093916, 24.85138029,\n",
       "        10.9867872 , 13.62698099, 31.86060342, 30.77374978, 23.87479629,\n",
       "        22.25839976, 25.81703977, 21.82059328, 11.83925264, 28.90845984,\n",
       "        17.56482723, 11.97602341, 27.43855499, 14.11868161, 22.26418286,\n",
       "        23.32920726, 31.03398907, 16.63432804, 26.21467588, 12.57459518,\n",
       "        29.77517631, 16.52231586, 26.61245709, 22.58366223, 33.40002346,\n",
       "         9.0133756 , 28.89284227, 26.47631263, 31.65260935, 14.74184676,\n",
       "        21.11170742, 24.53331005, 15.18737993, 31.05371152, 30.6750689 ,\n",
       "        12.67348818, 19.53551874, 17.18864342, 17.18864342, 18.47913542,\n",
       "        21.36746822, 23.63905569, 20.7809801 , 21.47617808, 30.03540455,\n",
       "        31.94913444, 26.942678  , 10.57550973, 16.72805419, 20.52074081,\n",
       "        20.41011009, 25.96805747, 11.9497137 , 25.9672945 , 16.70598092]),\n",
       " array([26. , 13. , 31.6, 18. , 16. , 17. , 25.5, 34.4, 14. , 34.1, 13. ,\n",
       "        15. , 20. , 44.3, 21.6, 35. , 24. , 25.5, 21. , 29. , 24. , 13. ,\n",
       "        19.2, 21.5, 23.2, 11. , 13. , 29.8, 32. , 19.8, 19. , 28.4, 19. ,\n",
       "        16.5, 25. , 17. , 13. , 24. , 16. , 19.4, 24.2, 33.5, 13. , 26. ,\n",
       "        14. , 33.5, 15.5, 28. , 20.5, 31. , 11. , 32.2, 33.5, 44.6, 15. ,\n",
       "        25.4, 27.9, 13. , 29. , 37.7, 13. , 19. , 17. , 14. , 18. , 20. ,\n",
       "        20. , 20.6, 18. , 24.5, 27. , 29. , 14. , 13. , 20.5, 22.4, 32.9,\n",
       "        14. , 31. , 18.2]))"
      ]
     },
     "execution_count": 224,
     "metadata": {},
     "output_type": "execute_result"
    }
   ],
   "source": [
    "expected=yl_test\n",
    "predicted=regr.predict(Xl_test) #or use predicted=regr.predict(test_x)\n",
    "predicted , np.array(expected)"
   ]
  },
  {
   "cell_type": "code",
   "execution_count": 226,
   "metadata": {},
   "outputs": [
    {
     "name": "stdout",
     "output_type": "stream",
     "text": [
      "model parameters : const 45.09179211518521  ; var std  [-0.03369234 -0.00530846 -0.0057831 ]  ; mean_squared_error 15.059605026373891 ; R^2 0.7523355033099043\n"
     ]
    }
   ],
   "source": [
    "mse = np.mean((predicted-expected)**2)#residual sum of squares\n",
    "print (\"model parameters :\",\"const\",regr.intercept_,\" ; var std \" ,regr.coef_, \" ; mean_squared_error\",mse,\"; R^2\",regr.score(Xl_test, yl_test))\n",
    "#R^2 seems to be good\n",
    "#mse seems to be good"
   ]
  },
  {
   "cell_type": "code",
   "execution_count": 216,
   "metadata": {},
   "outputs": [],
   "source": [
    "#our equations y_hat= 44.75 - 0.03184319 * x_horsepower - 0.00891365 * x_displacement - 0.00542752 * x_weight"
   ]
  },
  {
   "cell_type": "code",
   "execution_count": 163,
   "metadata": {},
   "outputs": [
    {
     "data": {
      "image/png": "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\n",
      "text/plain": [
       "<Figure size 842.4x595.44 with 1 Axes>"
      ]
     },
     "metadata": {},
     "output_type": "display_data"
    }
   ],
   "source": [
    "sns.set(rc={'figure.figsize':(11.7,8.27)})\n",
    "sns.distplot(df[\"mpg\"], bins = 25)\n",
    "plt.show()\n",
    "#mpg hist"
   ]
  },
  {
   "cell_type": "code",
   "execution_count": 164,
   "metadata": {},
   "outputs": [
    {
     "data": {
      "text/plain": [
       "Text(0.5, 1.0, 'model year')"
      ]
     },
     "execution_count": 164,
     "metadata": {},
     "output_type": "execute_result"
    },
    {
     "data": {
      "image/png": "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\n",
      "text/plain": [
       "<Figure size 842.4x595.44 with 1 Axes>"
      ]
     },
     "metadata": {},
     "output_type": "display_data"
    }
   ],
   "source": [
    "plt.hist(df[\"model year\"])\n",
    "plt.xlabel(\"model year\")\n",
    "plt.ylabel(\"count\")\n",
    "plt.title(\"model year\")\n"
   ]
  },
  {
   "cell_type": "code",
   "execution_count": 165,
   "metadata": {},
   "outputs": [
    {
     "data": {
      "text/plain": [
       "<matplotlib.axes._subplots.AxesSubplot at 0x7f5565720198>"
      ]
     },
     "execution_count": 165,
     "metadata": {},
     "output_type": "execute_result"
    },
    {
     "data": {
      "image/png": "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\n",
      "text/plain": [
       "<Figure size 842.4x595.44 with 1 Axes>"
      ]
     },
     "metadata": {},
     "output_type": "display_data"
    }
   ],
   "source": [
    "bins = np.linspace(min(df[\"model year\"]), max(df[\"model year\"]), 4)\n",
    "group_names=['70-74','75-79','80-83']\n",
    "df['modelyear_binned'] = pd.cut(df['model year'], bins, labels=group_names, include_lowest=True )\n",
    "sns.boxplot(x=\"modelyear_binned\", y=\"mpg\", data=df)"
   ]
  },
  {
   "cell_type": "code",
   "execution_count": 166,
   "metadata": {},
   "outputs": [
    {
     "data": {
      "image/png": "iVBORw0KGgoAAAANSUhEUgAAAMgAAAJ8CAYAAAC7nO7UAAAABHNCSVQICAgIfAhkiAAAAAlwSFlzAAALEgAACxIB0t1+/AAAADh0RVh0U29mdHdhcmUAbWF0cGxvdGxpYiB2ZXJzaW9uMy4xLjEsIGh0dHA6Ly9tYXRwbG90bGliLm9yZy8QZhcZAAAgAElEQVR4nO3df1BTd74//icJBEoFEQRkq6Oja91oFZBYvdZPWUBGEBCw48XLitqKP9ruFG/rVWoruKDOpnZrK+JlK2rX3f64dbegoi5UaTtbt6vQRStGq1WqVSAoaBVBAuH9/cMxXxF4J/xMgOdjhhlycnjnxTt55rxPcs552wkhBIioTQprF0BkyxgQIgkGhEiCASGSYECIJBgQIol+GZDk5GRs2bLFonWDg4Pxz3/+s4crslxGRgZWrVrV7v0RERE4fvx4L1Z0X0f6tD/plwHpzw4ePIipU6dau4xukZKSAn9/f9PPU089BX9/f9P9t27dwssvvww/Pz8EBQXhwIED0vYebsvf3x9qtRrp6emt1tu2bRvGjRtn0Rujfcf/LeqqpqYm2Nuz69PS0pCWlma6nZycDDs7uxb3Ozg44NixYzh79iyWL1+OX/3qVxg7dmyb7ZWUlJh+r6urwzPPPIOwsLAW61y5cgX5+fnw9PS0qEarbUGCg4ORnZ2NqKgo+Pn5Ye3atbhx4wYSExPh7++PxYsX4+effzatf/ToUURERECj0SAhIQEXL1403afT6RAbGwt/f3+sXLkSDQ0NLR7riy++QHR0NDQaDebPn49z5861quf69evw9fXFzZs3TctKS0sxbdo0NDY2AgD++te/Ijw8HFOmTMGSJUtw7do107obNmxAYGAgJk+ejLlz56K4uNh0X0ZGBl555RWsWrUKkydPRk5OjrRvDAYDVq5cCX9/f8TGxrao9+EhYUZGBpKSkrB69Wr4+/sjIiICp0+fbrHuzp07ERUVhYCAgFZ9I+sXc33a3erq6pCfn4/Y2FjT7YKCAiQlJeHxxx+HRqNBcHAw9u3bZ1F7+fn5cHd3h0ajabE8LS0Nq1atgkqlsqwwYSVBQUFi3rx54vr166KyslJMmzZNxMTEiDNnzoiGhgaRkJAgMjIyhBBCXLp0Sfj6+oqvv/5aGAwG8f7774uZM2eKhoYG0dDQIH7961+L3bt3C4PBIA4fPizGjx8v3nnnHSGEEKWlpWLatGni5MmToqmpSXz22WciKChINDQ0mOo4duyYEEKIxMRE8eGHH5pq3Lhxo0hLSxNCCPH555+LmTNnih9++EE0NjaKzMxMERcXZ1o3NzdX1NTUiMbGRrFz504xffp0ce/ePSGEEFu3bhXjx48Xn3/+uTAajaK+vr7dfnmw7uHDh4XBYBDZ2dkiKChIGAyGVvVu3bpVPPXUU+LLL78UTU1N4u233xbz5s1r0cfPPfecqKysFDdv3hRhYWHio48+Mtsv5vr0UUVFRSIgIKDdn6KiIrOvh5ycHBEcHCyam5uFEEKcOXNGTJw4scU62dnZYvny5WbbEkKIhIQEsXXr1hbLDh06JFasWNGqH2Wsug+yYMECDB06FN7e3tBoNJg0aRLGjx8PlUqF0NBQ6HQ6AMChQ4cQGBiIZ555Bg4ODliyZAnu3buHkpISnDp1Co2NjVi0aBEcHBwQFhaGiRMnmh7j008/RVxcHHx9faFUKhEbGwsHBwecPHmyVT2xsbHYv38/AMBoNOLgwYOIjo4GAHzyySdYtmwZxowZA3t7e6xYsQJnz541bUWio6MxZMgQ2Nvb44UXXoDBYEBZWZmpbT8/P8ycORMKhQJOTk7SfpkwYQLCwsLg4OCA559/HgaDAadOnWpz3YCAAAQGBkKpVCI6OrrV1jEhIQHe3t5wc3NDUFAQzp49a7ZfzPXpozQaDYqLi9v9efRdvC05OTmIiYkxDbHq6urg4uLSYh0XFxfcvXvXbFvl5eUoKipCTEyMadndu3exZcsWrF271uzfP8yqA+GhQ4eafnd0dGxx28nJCXV1dQCAqqoq/OIXvzDdp1Ao4OPjA71eD6VSCW9v7xZj14fXLS8vR25uLv7yl7+YljU2NqKqqqpVPSEhIUhNTcVPP/2EsrIyDBo0CJMmTTK1s2nTJmi1WtP6Qgjo9Xo88cQT2LVrF/bu3YuqqirY2dmhtra2xXBt2LBhFvfLw+sqFAp4e3u3WS+AVn3W0NDQYh/n4bH2Y489ZmpH1i92dnbSPu1uFRUVKCoqwoYNG0zLnJ2dUVtb22K92tpaPP744wCAxMREfPvttwCA3/3ud5gzZ45pvdzcXAQEBGDEiBGmZRkZGZgzZ06LZZboE3uKXl5eOH/+vOm2EAIVFRWmJ1Gv10MIYXpCy8vLTR3h4+ODFStW4MUXXzT7OI6OjggPD8f+/ftx6dIl09bj4XYefiIeKC4uxo4dO/DBBx9g7NixUCgUmDJlCsRDB0o//GIzp7Ky0vR7c3Mz9Ho9vLy8LP57S8j65cSJE9I+fVRxcTGWLl3a7mPt2LFDuhXJzc2Fv79/i/ZHjRoFo9GIH3/8EaNGjQIAnDt3Dr/85S8BANnZ2e22t2/fvlb1fPPNN6isrMTHH38MAKipqcHKlSuRmJiIZcuWtdtWn/iYNzw8HF999RW++eYbNDY2YteuXVCpVPD394efnx/s7e2xZ88eNDU1oaCgoMWO6rx58/DJJ5/g1KlTEEKgrq4OX375Zat3pweio6ORk5ODwsLCFmGYP38+3n//fVy4cAEAcOfOHRw+fBjA/c23UqmEu7s7mpqasG3btnbbt8SZM2dQUFCApqYm/OlPf4JKpYKvr2+n22uLrF/M9emjNBoNSkpK2v0xN8TKzc017Zw/4OzsjNDQUGzduhV1dXX49ttvcfTo0RZvWm3597//Db1e3+rTqw8++AB5eXnIzc1Fbm4uvLy88Lvf/Q6/+c1vpO31iS3I6NGjsXnzZqSnp0Ov10OtViMrK8v0SURGRgbWrVuHd999F4GBgQgNDTX97cSJE5Geno60tDRcvnwZTk5OmDx5crtPWkBAABQKBSZMmIDhw4ebloeGhuLu3bt49dVXce3aNbi4uGD69OkIDw/HjBkz8Oyzz2LWrFlwdnbGokWL4OPj0+n/NyQkBIcOHcKaNWswcuRIZGRkwMHBodPttUXWLyqVStqn3amkpKTNFzQApKamYu3atZg+fTrc3Nywfv36dj/ifSA3NxehoaEYNGhQi+VDhgxpcVupVGLw4MGmIVt77ITgCVOPWrhwIaKiojBv3jxrl0JW1ieGWL3pu+++g06nQ3h4uLVLIRvQJ4ZYvWXNmjU4cuQI3njjjVab6O708CcwD1u+fDlWrFjRY49LHcchFpEEh1hEEgwIkUSH9kG2bduGjIwMHDhwAE8++STKysqQnJyMW7duwc3NDVqt1vSljqWqq2vR3Ny3R3lDhjjj5s06a5fR59hCv3l6ukjvt3gLcubMGZw8ebLFIQepqamIj49Hfn4+4uPjkZKS0vlK+zB7e6W1S+iT+kK/WRQQg8GAtLQ0pKammg49qK6uhk6nQ2RkJAAgMjISOp0ONTU1PVctUS+zKCDvvfdeqwO9HhwLpVTefxdQKpXw8vJCRUVFz1RKZAVm90FKSkpw+vRp6XnSXeHh0XPfN/Qmc2NZaput95vZgBQVFeHSpUsICQkBcP9I0yVLluD111+HXq+H0WiEUqmE0WhEVVVVh49B6g876Z6eLrh+/Y61y+hzbKHfuryTvmzZMnz99dcoLCxEYWEhhg0bhp07d2L27NlQq9XIy8sDAOTl5UGtVsPd3b17KieyAV061GT9+vVITk7G9u3b4erq2uJkIqL+wOqHmnR1iOXi+hicHM3n/F5DE+7cru/048jYwlChL7KFfjM3xOrzBys6Odoj6jXzV7o48Ido8CVMHcVDTYgkGBAiCQaESIIBIZJgQIgkGBAiCQaESIIBIZJgQIgkGBAiCQaESIIBIZJgQIgkGBAiCQaESIIBIZJgQIgkGBAiCQaESIIBIZJgQIgkGBAiCQaESIIBIZJgQIgkGBAiCQaESIIBIZJgQIgkGBAiCQaESMKi+UFeeuklXL16FQqFAs7Ozli3bh3UajXKysqQnJyMW7duwc3NDVqtFqNGjerhkol6j0UB0Wq1cHG5PxPPkSNHsHbtWuTk5CA1NRXx8fGIjo7Gvn37kJKSgj179vRowUS9yaIh1oNwAEBtbS3s7OxQXV0NnU6HyMhIAEBkZCR0Oh1qamp6plIiK7B4CrY33ngDx44dgxAC2dnZqKiogLe3N5RKJQBAqVTCy8sLFRUVHZrptjfnSe/JObltfb5vW2Xr/WZxQDZu3AgAyM3NxVtvvYWkpKRuKaCrk3h2pIN7asJIW5iMsi+yhX7r8jzpj4qJicHx48cxbNgw6PV6GI1GAIDRaERVVRV8fHw6VymRDTIbkLt376KiosJ0u7CwEIMHD4aHhwfUajXy8vIAAHl5eVCr1R0aXhHZOrNDrPr6eiQlJaG+vh4KhQKDBw9GVlYW7OzssH79eiQnJ2P79u1wdXWFVqvtjZqJeo3ZgAwdOhSffvppm/eNGTMGe/fu7faiiGwFv0knkmBAiCQYECIJBoRIggEhkmBAiCQYECIJBoRIggEhkmBAiCQYECIJBoRIggEhkmBAiCQYECIJBoRIggEhkmBAiCQYECIJBoRIggEhkmBAiCQYECIJi6/NO5C4uD4GJ0fzXXOvoQl3btf3QkVkLQxIG5wc7RH12j6z6x34QzR4yer+jUMsIgkGhEiCASGSYECIJBgQIgkGhEjC7Me8N2/exOrVq3HlyhWoVCqMHDkSaWlpcHd35zzp3Yzfv9ges8+GnZ0dEhMTMXXqVAD350x/++23sWnTJs6T3s34/YvtMTvEcnNzM4UDAPz8/FBeXs550mlA6NA+SHNzMz7++GMEBwdL50kn6i86dKhJeno6nJ2dsWDBAuh0um4pwMNjULe0Y4memLT+QZs90bYlj9vX2fr/YXFAtFotLl++jKysLCgUCvj4+JjmSVcqlZ2eJ726uhbNzaLDhT/QkQ62dNL6jrbp6elicdvd+bh9XXf1W1drkLFoiLVlyxaUlpYiMzMTKpUKADhPOg0IZrcgFy5cQFZWFkaNGoX58+cDAIYPH47MzEzOk079ntmAjB07Ft9//32b93GedOrv+E06kQQDQiTBgBBJDJhTbg2NRpv/zJ1sz4AJiMpBadFxTsD9Y52IAA6xiKQYECIJBoRIggEhkmBAiCQYECKJAfMxrzVZeq452R4+a72gI+eak23hEItIggEhkmBAiCQYECIJBoRIggEhkmBAiCQYECIJBoRIggEhkmBAiCQYECIJBoRIggEhkuDh7l3w8LW2eM2t/okB6QJLr7XF8zz6Lg6xiCQYECIJBoRIwmxAtFotgoODMW7cOJw/f960vKysDHFxcZg1axbi4uLw448/9mSdRFZhNiAhISH48MMP8cQTT7RYnpqaivj4eOTn5yM+Ph4pKSk9ViSRtZgNiEajaTVzbXV1NXQ6HSIjIwEAkZGR0Ol0qKmp6ZkqiaykU/sgFRUV8Pb2hlKpBAAolUp4eXmhoqKiW4sjsjarfw/i4THI2iX0Sf3li0lb/z86FRAfHx/o9XoYjUYolUoYjUZUVVW1GopZorq6Fs3NojNlALD9Du4p16/fsXYJXebp6WL1/8Pc66dTQywPDw+o1Wrk5eUBAPLy8qBWq+Hu7t6Z5ohsltktyIYNG1BQUIAbN27g+eefh5ubGw4ePIj169cjOTkZ27dvh6urK7RabW/US9SrzAbkzTffxJtvvtlq+ZgxY7B3794eKYrIVvCbdCIJBoRIggEhkrD69yDUczoycc+9hibcuV3fwxX1PQxIP2bpxD3A/ZO6+v43K92PQywiCQaESMJmh1ic+LJ9D18sgnqWzb4COfFl+3ixiN7DIRaRBANCJMGAEEkwIEQSDAiRBANCJMGAEEkwIEQSDAiRBANCJMGAEEkwIEQSDAiRBANCJMGAEEkwIEQSDAiRBANCJMGAEEkwIEQSDAiRBANCJGGzl/2h3mXptbYG2jV8uxyQsrIyJCcn49atW3Bzc4NWq8WoUaO6oTTqTR251tZAuoZvl4dYqampiI+PR35+PuLj45GSktIddRHZhC5tQaqrq6HT6bB7924AQGRkJNLT01FTU2PxhJ4KhV2793kNecyiNrp7PWs+dl/4n2XPWUd1Z1s9wU4I0ek5mEtLS7FmzRocPHjQtGz27NnYvHkzJkyY0C0FElkTP8UikuhSQHx8fKDX62E0GgEARqMRVVVV8PHx6ZbiiKytSwHx8PCAWq1GXl4eACAvLw9qtdri/Q8iW9elfRAAuHjxIpKTk3H79m24urpCq9Vi9OjR3VUfkVV1OSBE/Rl30okkGBAiCQaESIIBIZJgQIgkGBAiCQaESIIBIZJgQIgkGBAiCQaESIIBIZJgQIgkGBAiiX4ZkOTkZGzZssWidYODg/HPf/6zhyuyXEZGBlatWtXu/RERETh+/HgvVnRfR/q0P+GF4/qYhy+Q0delpKTgwIEDptuNjY1wcHBASUkJACAhIQEnT56Evf39l6mXlxfy8/Pbbc/f37/F7Xv37iE+Ph7r1q0DAOzduxfvv/8+bty4gcmTJ2PTpk3w9vaW1siAWEFTU5PpSR/I0tLSkJaWZrqdnJwMO7uWlwFKSUnBvHnzLGrvQbAAoK6uDs888wzCwsIAACdOnMA777yDPXv2YOTIkdi4cSNee+01/OUvf5G2abUhVnBwMLKzsxEVFQU/Pz+sXbsWN27cQGJiIvz9/bF48WL8/PPPpvWPHj2KiIgIaDQaJCQk4OLFi6b7dDodYmNj4e/vj5UrV6KhoaHFY33xxReIjo6GRqPB/Pnzce7cuVb1XL9+Hb6+vrh586ZpWWlpKaZNm4bGxkYAwF//+leEh4djypQpWLJkCa5du2Zad8OGDQgMDMTkyZMxd+5cFBcXm+7LyMjAK6+8glWrVmHy5MnIycmR9o3BYMDKlSvh7++P2NjYFvU+PCTMyMhAUlISVq9eDX9/f0REROD06dMt1t25cyeioqIQEBDQqm9k/WKuT7tbXV0d8vPzERsb2y3t5efnw93dHRqNBsD9/zUsLAxjx46FSqXCSy+9hKKiIly5ckXajlX3QQoKCrB7927k5+fjiy++wNKlS/Hqq6/i+PHjaG5uxp///GcA9y9v+tprr2Ht2rX45ptv8Oyzz2LFihUwGAwwGAx4+eWXER0djRMnTiAsLAwFBQWmxzhz5gzWrl2LtLQ0HD9+HHFxcXjppZdgMBha1OLp6Ymnn34ahw8fNi3bv38/IiIi4ODggCNHjuCPf/wjtm3bhm+++QYBAQF47bXXTOtOnDgRubm5OHHiBCIjI5GUlNTiRXX06FGEhYWhuLgYUVFR0n55sO6Dtl566SVTSB9VWFiIiIgIFBcXIzg4GOnp6S3uP3z4MLKzs3H06FF8//33+Oyzz8z2i7k+fVRxcTE0Gk27Pw+/WbSnoKAA7u7umDJlSovlf/jDHzB16lTMnz+/Q/teOTk5iImJMW2RhBBo6+zy8+fPS9uxakAWLFiAoUOHwtvbGxqNBpMmTcL48eOhUqkQGhoKnU4HADh06BACAwPxzDPPwMHBAUuWLMG9e/dQUlKCU6dOobGxEYsWLYKDgwPCwsIwceJE02N8+umniIuLg6+vL5RKJWJjY+Hg4ICTJ0+2qic2Nhb79+8HcP8SRgcPHkR0dDQA4JNPPsGyZcswZswY2NvbY8WKFTh79qxpKxIdHY0hQ4bA3t4eL7zwAgwGA8rKykxt+/n5YebMmVAoFHBycpL2y4QJExAWFgYHBwc8//zzMBgMOHXqVJvrBgQEIDAwEEqlEtHR0a22jgkJCfD29oabmxuCgoJw9uxZs/1irk8f9SAE7f08eBeXefQFDQCrVq3CkSNH8I9//ANxcXFYsWKF2Xd8ACgvL0dRURFiYmJMywIDA3H48GGcO3cO9+7dQ2ZmJuzs7HDv3j1pW1YNyNChQ02/Ozo6trjt5OSEuro6AEBVVRV+8YtfmO5TKBSma3JVVVXB29u7Rcc+vG55eTl2797d4h2tsrISVVVVreoJCQnBxYsX8dNPP+HYsWMYNGgQJk2aZGpn06ZNpjaefvppCCGg1+sBALt27UJ4eDgCAgKg0Whw586dFsO1YcOGWdwvD6+rUCjg7e3dZr0AWvVZQ0MDmpqaTMs8PT1Nvz/22GOmPpX1i7k+7W4VFRWtXtAA4Ovri0GDBkGlUiE2NhaTJ0/GV199BQCmobi/v7/pTe2B3NxcBAQEYMSIEaZl//Ef/4FXXnkFr7zyCoKCgvDEE0/g8ccfN/u89Ik9RS8vrxabQiEEKioqTE+iXq+HEML0hJaXl5s6x8fHBytWrMCLL75o9nEcHR0RHh6O/fv349KlS6atx8PtzJkzp9XfFRcXY8eOHfjggw8wduxYKBQKTJkypcUm/dGdT5nKykrT783NzdDr9fDy8rL47y0h65cTJ05I+/RRxcXFWLp0abuPtWPHDulWJDc3F/7+/u22/4CdnZ2pT7Ozs9tdb9++fW3W85vf/Aa/+c1vANwftv/v//4vxo4dK33MPvE9SHh4OL766it88803aGxsxK5du6BSqeDv7w8/Pz/Y29tjz549aGpqQkFBQYsd1Xnz5uGTTz7BqVOnIIRAXV0dvvzyS9TW1rb5WNHR0cjJyUFhYWGLMMyfPx/vv/8+Lly4AAC4c+eOaX/l7t27UCqVcHd3R1NTE7Zt29Zu+5Y4c+YMCgoK0NTUhD/96U9QqVTw9fXtdHttkfWLuT59lEajQUlJSbs/5oZYubm5rXbOb9++jX/84x+mLeL+/ftRXFyMGTNmSNv697//Db1eb/r06oGGhgacP38eQgiUl5cjJSUFCxcuxODBg6Xt9YktyOjRo7F582akp6dDr9dDrVYjKysLKpUKwP1Pc9atW4d3330XgYGBCA0NNf3txIkTkZ6ejrS0NFy+fBlOTk6YPHlyu09aQEAAFAoFJkyYgOHDh5uWh4aG4u7du3j11Vdx7do1uLi4YPr06QgPD8eMGTPw7LPPYtasWXB2dsaiRYu6dPnVkJAQHDp0CGvWrMHIkSORkZEBBweHTrfXFlm/qFQqaZ92p5KSkjZf0E1NTXj33Xdx6dIlKJVKjB49GpmZmWYvSpibm4vQ0FAMGjSoxfKGhga89tpr+Omnn/D4449j7ty5SEpKMlsfLxzXhoULFyIqKsriz9+p/+oTQ6ze9N1330Gn0yE8PNzapZAN6BNDrN6yZs0aHDlyBG+88UarTXR3SkxMxLfffttq+fLly7FixYoee1zqOA6xiCQ4xCKSsPoQq7q6Fs3NfXsjNmSIM27erLN2GX2OLfSbuamvO7QF2bZtG8aNG2f60q6srAxxcXGYNWsW4uLi8OOPP3a60L7M3l5p7RL6pL7QbxYH5MyZMzh58mSLQw44BTT1dxYFxGAwIC0tDampqaZDDx5MAR0ZGQng/hTQOp0ONTU1PVctUS+zaB/kvffew5w5c1ocK/PgWCil8v5mUqlUwsvLCxUVFR2ao9DDo+c+Tu1N5say1DZb7zezASkpKcHp06el50l3RX/YSff0dMH163esXUafYwv91uWd9KKiIly6dAkhISEIDg5GZWUllixZgitXrnAKaOr3zAZk2bJl+Prrr1FYWIjCwkIMGzYMO3fuxOzZszkFNPV7XfoeZP369UhOTsb27dtNU0AT9SdWP9SE+yADly30W7d+UUg00DAgRBIMCJEEA0IkwYAQSTAgRBIMCJEEA0IkwYAQSTAgRBIMCJEEA0IkwYAQSTAgRBIMCJEEA0IkwYAQSTAgRBIMCJEEA0IkwYAQSTAgRBIMCJEEA0IkwYAQSTAgRBIMCJEEA0IkwYAQSTAgRBIMCJGERRPovPTSS7h69SoUCgWcnZ2xbt06qNVqlJWVITk5Gbdu3YKbmxu0Wi1GjRrVwyUT9R6LJtC5c+cOXFzuTzRy5MgRZGZmIicnBwsXLsRzzz2H6Oho7Nu3D3/729+wZ8+eDhXACXQGLlvot26ZQOdBOACgtrYWdnZ2nCedBgSL5yh84403cOzYMQghkJ2d3W3zpBPZMosDsnHjRgBAbm4u3nrrLSQlJXVLAR4eg7qlHWszt6mmttl6v3V4ltuYmBikpKRg2LBhpnnSlUplp+dJ5z7IwGUL/dblfZC7d++ioqLCdLuwsBCDBw+Gh4cH50mnfs/sFqS+vh5JSUmor6+HQqHA4MGDkZWVBTs7O86TTv0e50nvBrYwVOiLbKHfOE86URcwIEQSDAiRBANCJMGAEEkwIEQSDAiRBANCJMGAEEkwIEQSDAiRRIcPd++PXFwfg5Oj5V3RYDDCUaVssUx2TM+9hibcuV3f6frIehgQAE6O9oh6bZ/F6x/4Q3SH1+ehjH0Th1hEEgwIkQQDQiTBgBBJMCBEEgwIkQQDQiTBgBBJMCBEEgwIkQQDQiTBgBBJMCBEEgwIkUS/Pdy9o+d4ELWl376COnKOx4E/RPdwNdRXcYhFJMGAEEkwIEQSZvdBbt68idWrV+PKlStQqVQYOXIk0tLS4O7ujrKyMiQnJ+PWrVtwc3ODVqvFqFGjeqFsot5hdgtiZ2eHxMRE5Ofn48CBAxgxYgTefvttAEBqairi4+ORn5+P+Ph4pKSk9HjBRL3JbEDc3NwwdepU020/Pz+Ul5ejuroaOp0OkZGRAIDIyEjodDrU1NT0XLVEvaxDH/M2Nzfj448/RnBwMCoqKuDt7Q2l8v71oZRKJby8vFBRUdGhmW77yzzp5tj6fODWYuv90qGApKenw9nZGQsWLIBOp+uWAnpqEk9b63hrT1Zpi/rCJJ4WB0Sr1eLy5cvIysqCQqGAj48P9Ho9jEYjlEoljEYjqqqq4OPj0+WiiWyFRR/zbtmyBaWlpcjMzIRKpQIAeHh4QK1WIy8vDwCQl5cHtVrdoeEVka0zuwW5cOECsrKyMGrUKMyfPx8AMHz4cGRmZmL9+vVITk7G9u3b4erqCq1W2+MFE/UmswEZO3Ysvv/++zbvGzNmDKjZO30AABltSURBVPbu3dvtRRHZCn6TTiTBgBBJMCBEEgwIkQQDQiTBgBBJMCBEEv32nHRbYmg0dujYME76aTsYkF6gclBy0s8+ikMsIgkGhEiCASGSYECIJBgQIgkGhEiCASGSYECIJBgQIgkGhEiCASGSYECIJBgQIgkGhEiCh7v3Ax2ZsJTnmnQMA9IPdHTCUp5rYjkOsYgkGBAiCQaESIIBIZJgQIgkGBAiCX7Ma4M6eh0t6jlmA6LVapGfn49r167hwIEDePLJJwEAZWVlSE5Oxq1bt+Dm5gatVotRo0b1dL0DQmeuo0U9w+wQKyQkBB9++CGeeOKJFstTU1MRHx+P/Px8xMfHIyUlpceKJLIWswHRaDStZq6trq6GTqdDZGQkACAyMhI6nQ41NTU9UyWRlXRqH6SiogLe3t5QKpUAAKVSCS8vL1RUVHR4llsPj0GdKYG6wJb2b2yplrZYfSe9uroWzc2i29u19Y63puvXbeNoLE9PF6vXYu510qmPeX18fKDX62E0GgEARqMRVVVVrYZiRH1dpwLi4eEBtVqNvLw8AEBeXh7UanWHh1dEts7sEGvDhg0oKCjAjRs38Pzzz8PNzQ0HDx7E+vXrkZycjO3bt8PV1RVarbY36iXqVWYD8uabb+LNN99stXzMmDHYu3dvjxRFZCt4qAmRBANCJGH1j3mpd3G+xI5hQAYYzpfYMRxiEUkwIEQSDAiRBANCJMGAEEkwIEQSDAiRBANCJMGAEEkwIEQSDAiRBANCJMGAEEkwIEQSDAiRBANCJMGAEEkwIEQSDAiRBM9JJ6mBfpEHBoSkBvpFHjjEIpJgQIgkGBAiCQaESIIBIZJgQIgkuvwxL+dLp4d19HsT18HOcFQpLVrXGt+xdDkgD+ZLj46Oxr59+5CSkoI9e/Z0R23UB3XmexNL17fGdyxdGmJxvnTq77q0BemO+dIVCruulCDlNeSxHlm3r69vS7V0dP2efL20xU4I0elJyktLS7FmzRocPHjQtGz27NnYvHkzJkyY0C0FEllTl4ZYnC+d+rsuBYTzpVN/16UhFgBcvHgRycnJuH37tmm+9NGjR3dXfURW1eWAEPVn/CadSIIBIZJgQIgkGBAiCQaESIIBIZJgQIgkGBAiCQaESIIBIZJgQIgkGBAiCQaESIIBIZLolwFJTk7Gli1bLFo3ODgY//znP3u4IstlZGRg1apV7d4fERGB48eP92JF93WkT/uTfhmQ/uzgwYOYOnWqtcvoFkIIbNmyBf/v//0/BAQEICEhARcuXDDdf+vWLbz88svw8/NDUFAQDhw4IG3v6tWrWLp0KaZMmYJnnnkGaWlpaGpqAgD88MMPmDt3LqZMmYIpU6Zg8eLF+OGHH8zWyIBYwYMnbaA7fPgw/va3v+Gjjz7CiRMn4Ofnh9WrV5vuT0tLg4ODA44dO4bNmzdj/fr1LQL0qN/97nfw8PDA119/jdzcXBQVFeGjjz4CAHh5eWHr1q04ceIE/vWvfyE4OBj//d//bbZGqwUkODgY2dnZiIqKgp+fH9auXYsbN24gMTER/v7+WLx4MX7++WfT+kePHkVERAQ0Gg0SEhJw8eJF0306nQ6xsbHw9/fHypUr0dDQ0OKxvvjiC0RHR0Oj0WD+/Pk4d+5cq3quX78OX19f3Lx507SstLQU06ZNQ2NjIwDgr3/9K8LDwzFlyhQsWbIE165dM627YcMGBAYGYvLkyZg7dy6Ki4tN92VkZOCVV17BqlWrMHnyZOTk5Ej7xmAwYOXKlfD390dsbGyLeh8eEmZkZCApKQmrV6+Gv78/IiIicPr06Rbr7ty5E1FRUQgICGjVN7J+Mden3eHq1asICAjAiBEjoFQqMWfOHNO7el1dHQoKCpCUlITHH38cGo0GwcHB2Lev/YvMXb16FeHh4XB0dISnpydmzJhhas/V1RXDhw+HnZ0dhBBQKpW4cuWK+SKFlQQFBYl58+aJ69evi8rKSjFt2jQRExMjzpw5IxoaGkRCQoLIyMgQQghx6dIl4evrK77++mthMBjE+++/L2bOnCkaGhpEQ0OD+PWvfy12794tDAaDOHz4sBg/frx45513hBBClJaWimnTpomTJ0+KpqYm8dlnn4mgoCDR0NBgquPYsWNCCCESExPFhx9+aKpx48aNIi0tTQghxOeffy5mzpwpfvjhB9HY2CgyMzNFXFycad3c3FxRU1MjGhsbxc6dO8X06dPFvXv3hBBCbN26VYwfP158/vnnwmg0ivr6+nb75cG6hw8fFgaDQWRnZ4ugoCBhMBha1bt161bx1FNPiS+//FI0NTWJt99+W8ybN69FHz/33HOisrJS3Lx5U4SFhYmPPvrIbL+Y69NHFRUViYCAgHZ/ioqK2vy7q1evipiYGHHp0iVhMBiEVqsVL774ohBCiDNnzoiJEye2WD87O1ssX7683b776KOPxP/8z/+Iuro6UVlZKSIiIkRBQUGLdQICAoRarRbjxo0TmZmZ7bb1gFWHWAsWLMDQoUPh7e0NjUaDSZMmYfz48VCpVAgNDYVOpwMAHDp0CIGBgXjmmWfg4OCAJUuW4N69eygpKcGpU6fQ2NiIRYsWwcHBAWFhYZg4caLpMT799FPExcXB19cXSqUSsbGxcHBwwMmTJ1vVExsbi/379wO4fwmjgwcPIjo6GgDwySefYNmyZRgzZgzs7e2xYsUKnD171rQViY6OxpAhQ2Bvb48XXngBBoMBZWVlprb9/Pwwc+ZMKBQKODk5SftlwoQJCAsLg4ODA55//nkYDAacOnWqzXUDAgIQGBgIpVKJ6OjoVlvHhIQEeHt7w83NDUFBQTh79qzZfjHXp4/SaDQoLi5u90ej0bT5d56enggICEBYWBh8fX3x97//Ha+//jqA+1sQF5eW1/h1cXHB3bt3263j6aefxg8//ICAgAA8++yzeOqppzBz5swW6zyoad26dRg/fny7bT1g1YAMHTrU9Lujo2OL205OTqirqwMAVFVV4Re/+IXpPoVCYbomV1VVFby9vWFn9/9fce/hdcvLy7F7925oNBrTT2VlJaqqqlrVExISgosXL+Knn37CsWPHMGjQIEyaNMnUzqZNm0xtPP300xBCQK/XAwB27dqF8PBwBAQEQKPR4M6dOy2Ga8OGDbO4Xx5eV6FQwNvbu816AbTqs4aGhhb7OJ6enqbfH3vsMVOfyvrFXJ92l8zMTJSWluKrr77Cd999h9/+9rdYtGgR6uvr4ezsjNra2hbr19bW4vHHHwcA01Dc398f+/fvR3NzM5YsWYLQ0FCcPHkS//rXv/Dzzz9j8+bNrR7X2dkZ//Vf/4U1a9agurpaWmOfmMTTy8sL58+fN90WQpgue2pnZwe9Xg8hhOkJLS8vx4gRIwDcv7jdihUr8OKLL5p9HEdHR4SHh2P//v24dOmSaevxcDtz5sxp9XfFxcXYsWMHPvjgA4wdOxYKhQJTpkyBeOiCMQ+/2MyprKw0/d7c3Ay9Xg8vLy+L/94Ssn45ceKEtE8fVVxcjKVLl7b7WDt27GhzK3Lu3DmEh4eb3hDmzp2LTZs24YcffsCYMWNgNBrx448/mmYLOHfuHH75y18CALKzs1u0VVNTg4qKCixYsAAqlQoqlQrPPfcc3n333RY7/g80Nzejvr4eer0eHh4e7dbeJz7FCg8Px1dffYVvvvkGjY2N2LVrF1QqFfz9/eHn5wd7e3vs2bMHTU1NKCgoaLGjOm/ePHzyySc4deoUhBCoq6vDl19+2erd6YHo6Gjk5OSgsLCwRRjmz5+P999/3/Qpyp07d3D48GEAwN27d6FUKuHu7o6mpiZs27at3fYtcebMGRQUFKCpqQl/+tOfoFKp4Ovr2+n22iLrF3N9+iiNRoOSkpJ2f9obYk2cOBF///vfcePGDTQ3NyM3NxdNTU0YOXIknJ2dERoaiq1bt6Kurg7ffvstjh492uJN62Hu7u4YPnw4Pv74YzQ1NeH27dvIycnBuHHjAADHjh2DTqeD0WhEbW0tfv/738PV1RVjxoyR9lOf2IKMHj0amzdvRnp6OvR6PdRqNbKysqBSqQDc/zRn3bp1ePfddxEYGIjQ0FDT306cOBHp6elIS0vD5cuX4eTkhMmTJ7f7pAUEBEChUGDChAkYPny4aXloaCju3r2LV199FdeuXYOLiwumT5+O8PBwzJgxA88++yxmzZoFZ2dnLFq0qEuXXw0JCcGhQ4ewZs0ajBw5EhkZGXBwcOh0e22R9YtKpZL2aXdZunQpqqurERMTg7q6OowcORJbt26Fq6srgPtTa6xduxbTp0+Hm5sb1q9fj7Fjx7bb3rZt27Bp0ybs2LEDCoUCU6dOxdq1awEAt2/fNr1+HB0dMXHiRGRnZ8PR0VFaIy8c14aFCxciKioK8+bNs3YpZGV9YojVm7777jvodDqEh4dbuxSyAX1iiNVb1qxZgyNHjuCNN97AoEGDeuxxEhMT8e2337Zavnz5cqxYsaLHHpc6jkMsIgkOsYgkGBAiiQ7tg2zbtg0ZGRk4cOAAnnzyyW6ZArq6uhbNzX17lDdkiDNu3qyzdhl9ji30m7kpqy3egpw5cwYnT55sccjBgymg8/PzER8fj5SUlM5X2ofZ21s2zze11Bf6zaKAGAwGpKWlITU11XToAaeApoHAooC89957mDNnTotjcWRTQBP1F2b3QUpKSnD69GnpedJd4eHRc9839CZzY1lqm633m9mAFBUV4dKlSwgJCQFw/0jTJUuW4PXXXzdNAa1UKjs9BXR/2En39HTB9et3rF1Gn2ML/dblnfRly5bh66+/RmFhIQoLCzFs2DDs3LkTs2fP5hTQ1O916VCT9evXIzk5Gdu3bzdNAU3Un1j9UBMOsQYuW+i3bvsehGggYkCIJBgQIgkGhEiCASGSYECIJBgQIgkGhEiCASGSYECIJBgQIgkGhEiCASGSYECIJBgQIgkGhEiCASGSYECIJBgQIgkGhEiCASGSYECIJBgQIgkGhEiCASGSYECIJBgQIgkGhEiCASGSYECIJBgQIgkGhEjCohmmXnrpJVy9ehUKhQLOzs5Yt24d1Go1ysrKkJycjFu3bsHNzQ1arRajRo3q4ZKJeo9FM0zduXMHLi73Z+I5cuQIMjMzkZOTg4ULF+K5555DdHQ09u3bh7/97W/Ys2dPhwrgDFMDly30W7fMMPUgHABQW1sLOzs7VFdXQ6fTITIyEgAQGRkJnU6HmpqaLpRLZFssnsTzjTfewLFjxyCEQHZ2NioqKuDt7Q2lUgkAUCqV8PLyQkVFRYdmuuU86QObrfebxQHZuHEjACA3NxdvvfUWkpKSuqUADrEGLlvot26fxDMmJgbHjx/HsGHDoNfrYTQaAQBGoxFVVVXw8fHpXKVENshsQO7evYuKigrT7cLCQgwePBgeHh5Qq9XIy8sDAOTl5UGtVndoeEVk68wOserr65GUlIT6+nooFAoMHjwYWVlZsLOzw/r165GcnIzt27fD1dUVWq22N2om6jUWfczbk7gPMnDZQr91+z4I0UDCgBBJMCBEEgwIkQQDQiTBgBBJMCBEEgwIkQQDQiTBgBBJMCBEEgwIkQQDQiTBgBBJMCBEEgwIkQQDQiTBgBBJMCBEEgwIkQQDQiTBgBBJMCBEEgwIkQQDQiTBgBBJMCBEEhbPD0L9g4vrY3BytPxpv9fQhDu363uwItvGgAwwTo72iHptn8XrH/hDNAbyZbk5xCKSYECIJMwOsW7evInVq1fjypUrUKlUGDlyJNLS0uDu7s550qnfM7sFsbOzQ2JiIvLz83HgwAGMGDECb7/9NgAgNTUV8fHxyM/PR3x8PFJSUnq8YKLeZDYgbm5umDp1qum2n58fysvLOU86DQgd2gdpbm7Gxx9/jODgYOk86UT9RYc+5k1PT4ezszMWLFgAnU7XLQV4eAzqlnaszdxcd31ZT/5vtt5vFgdEq9Xi8uXLyMrKgkKhgI+Pj2medKVS2el50jmJZ+/qzAuyp/43W+i3bpnEc8uWLSgtLUVmZiZUKhUAcJ50GhDMbkEuXLiArKwsjBo1CvPnzwcADB8+HJmZmZwnnfo9swEZO3Ysvv/++zbvGzNmDPbu3dvtRZHtMDQaOzws60/Hb/FYLJJSOSg7dOwW0L+O3+KhJkQSDAiRBANCJMGAEEkwIEQSDAiRBD/mtTE8Z9y2MCA2hueM2xYOsYgkGBAiCQ6x+rjOHCtFlmNA+riOHit14A/RPVhN/8MhFpEEA0IkwYAQSTAgRBIMCJEEA0IkwYAQSTAgRBIMCJEEA0IkwYAQSTAgRBIMCJEEA0IkwcPde1hHzzEn28Jnrod15hxzsh0cYhFJMCBEEgwIkYTZgGi1WgQHB2PcuHE4f/68aXlZWRni4uIwa9YsxMXF4ccff+zJOomswmxAQkJC8OGHH+KJJ55osTw1NRXx8fHIz89HfHw8UlJSeqxIImsxGxCNRtNq5trq6mrodDpERkYCACIjI6HT6VBTU9MzVRJZSaf2QSoqKuDt7Q2lUgkAUCqV8PLyQkVFRbcWR2RtVv8exMNjkLVL6Ba8eFtLlvaHrfdbpwLi4+MDvV4Po9EIpVIJo9GIqqqqVkMxS1RX16K5WXSmDJvh6emC69fbvoS0rb8Aekp7/fEwWb/1FnPPT6eGWB4eHlCr1cjLywMA5OXlQa1Ww93dvTPNEdkss1uQDRs2oKCgADdu3MDzzz8PNzc3HDx4EOvXr0dycjK2b98OV1dXaLXa3qiXqFeZDcibb76JN998s9XyMWPGYO/evT1SFPVtHbmgtqeni01PAmT1nXTqfzpzQW1bnQSIh5oQSTAgRBIDeojVmZOZbHm8TN1vQAekoyczAbY9XqbuxyEWkQQDQiQxoIdYndHeZ/wD9ZCS/o4B6SBOmjmwcIhFJMGAEEkwIEQSDAiRBANCJMGAEEkwIEQSDAiRBANCJMGAEEnwUBOyuo6cww4ADQYjHFVKi9fvyjk8DAhZXWeOb+utc945xCKSYECIJBgQIgkGhEiCASGSYECIJBgQIgkGhEiCASGSYECIJBgQIokuB6SsrAxxcXGYNWsW4uLi8OOPP3ZDWUS2ocsBSU1NRXx8PPLz8xEfH4+UlJTuqIvIJnTpaN7q6mrodDrs3r0bABAZGYn09HTU1NRYPKGnQmHXlRK6zGvIYz3+NwNt/d54jI6u39nXmZ0QotNzMJeWlmLNmjU4ePCgadns2bOxefNmTJgwobPNEtkM7qQTSXQpID4+PtDr9TAajQAAo9GIqqoq+Pj4dEtxRNbWpYB4eHhArVYjLy8PAJCXlwe1Wm3x/geRrevSPggAXLx4EcnJybh9+zZcXV2h1WoxevTo7qqPyKq6HBCi/ow76UQSDAiRBANCJMGAEEkwIB1w8+ZNLF26FLNmzUJUVBR++9vfoqamBgAP2rTUtm3bMG7cOJw/fx5AH+g3QRa7efOm+Ne//mW6/fvf/168/vrrQgghEhISRG5urhBCiNzcXJGQkGCVGm1ZaWmpWLJkifj1r38tvv/+eyGE7fcbA9IFf//738WiRYvEjRs3REBAgGhqahJCCNHU1CQCAgJEdXW1lSu0HQ0NDeI///M/xZUrV0RQUJD4/vvv+0S/cYjVSc3Nzfj4448RHByMiooKeHt7Q6m8f0FlpVIJLy8vVFRUWLlK2/Hee+9hzpw5GDFihGlZX+g3BqST0tPT4ezsjAULFli7FJtXUlKC06dPIz4+3tqldBgD0glarRaXL1/Gu+++C4VCwYM2zSgqKsKlS5cQEhKC4OBgVFZWYsmSJbhy5Yrt95u1x3h9zTvvvCMWLFgg6urqWixfsGBBi53NBQsWWKO8PuHBPogQtt9vPBarAy5cuIDIyEiMGjUKTk5OAIDhw4cjMzOTB212QHBwMLKysvDkk0/afL8xIEQS3AchkmBAiCQYECIJBoRIggEhkmBAiCQYECIJBoRIggGxIcHBwcjOzkZUVBT8/Pywdu1a3LhxA4mJifD398fixYvx888/4+rVqxg3bhz+7//+DzNmzMCMGTOwa9cuUzv37t3DmjVrMGXKFISHh2PHjh149tlnrfif9V1dung1db+CggLs3r0bRqMRMTExOHv2LDZu3Ihf/vKXSExMxJ///GfExMQAAI4fP46CggL89NNPWLRoEX71q19h+vTp2LZtG65du4YjR46gvr4eS5cutfJ/1XdxC2JjFixYgKFDh8Lb2xsajQaTJk3C+PHjoVKpEBoaCp1OZ1r35ZdfhrOzM8aNG4e5c+earnB5+PBhLF++HIMHD8awYcOwcOFCa/07fR4DYmOGDh1q+t3R0bHFbScnJ9TV1ZluP3xY+BNPPIGqqioAaHXI+LBhw3qy5H6NAenDHj7zrry8HF5eXgAAT09PVFZWmu57+HfqGAakD9u+fTvq6+tx4cIFfPbZZ5g9ezYAIDw8HH/84x/x888/Q6/X4y9/+YuVK+27GJA+7Omnn0ZoaCgWL16MF154ATNmzABwf99k2LBhCAkJweLFizFr1iyoVCorV9s38XyQPujq1asICQnBmTNnYG9v/oPIjz76CIcOHeKWpBO4BemHqqqq8O2336K5uRmXLl3C7t27MXPmTGuX1Sfxe5B+qLGxEampqbh69SpcXFwQERHRJ68oYgs4xCKS4BCLSIIBIZJgQIgkGBAiCQaESIIBIZL4/wAJoBY/B0v5XAAAAABJRU5ErkJggg==\n",
      "text/plain": [
       "<Figure size 216x648 with 3 Axes>"
      ]
     },
     "metadata": {},
     "output_type": "display_data"
    }
   ],
   "source": [
    "g = sns.FacetGrid(df, row = \"modelyear_binned\")\n",
    "g = g.map(plt.hist, \"mpg\")\n",
    "plt.show()"
   ]
  },
  {
   "cell_type": "code",
   "execution_count": 167,
   "metadata": {},
   "outputs": [
    {
     "data": {
      "text/html": [
       "<div>\n",
       "<style scoped>\n",
       "    .dataframe tbody tr th:only-of-type {\n",
       "        vertical-align: middle;\n",
       "    }\n",
       "\n",
       "    .dataframe tbody tr th {\n",
       "        vertical-align: top;\n",
       "    }\n",
       "\n",
       "    .dataframe thead th {\n",
       "        text-align: right;\n",
       "    }\n",
       "</style>\n",
       "<table border=\"1\" class=\"dataframe\">\n",
       "  <thead>\n",
       "    <tr style=\"text-align: right;\">\n",
       "      <th></th>\n",
       "      <th>model year</th>\n",
       "      <th>modelyear_binned</th>\n",
       "    </tr>\n",
       "  </thead>\n",
       "  <tbody>\n",
       "    <tr>\n",
       "      <th>0</th>\n",
       "      <td>70</td>\n",
       "      <td>70-74</td>\n",
       "    </tr>\n",
       "    <tr>\n",
       "      <th>1</th>\n",
       "      <td>70</td>\n",
       "      <td>70-74</td>\n",
       "    </tr>\n",
       "    <tr>\n",
       "      <th>2</th>\n",
       "      <td>70</td>\n",
       "      <td>70-74</td>\n",
       "    </tr>\n",
       "    <tr>\n",
       "      <th>3</th>\n",
       "      <td>70</td>\n",
       "      <td>70-74</td>\n",
       "    </tr>\n",
       "    <tr>\n",
       "      <th>4</th>\n",
       "      <td>70</td>\n",
       "      <td>70-74</td>\n",
       "    </tr>\n",
       "    <tr>\n",
       "      <th>5</th>\n",
       "      <td>70</td>\n",
       "      <td>70-74</td>\n",
       "    </tr>\n",
       "    <tr>\n",
       "      <th>6</th>\n",
       "      <td>70</td>\n",
       "      <td>70-74</td>\n",
       "    </tr>\n",
       "    <tr>\n",
       "      <th>7</th>\n",
       "      <td>70</td>\n",
       "      <td>70-74</td>\n",
       "    </tr>\n",
       "    <tr>\n",
       "      <th>8</th>\n",
       "      <td>70</td>\n",
       "      <td>70-74</td>\n",
       "    </tr>\n",
       "    <tr>\n",
       "      <th>9</th>\n",
       "      <td>70</td>\n",
       "      <td>70-74</td>\n",
       "    </tr>\n",
       "    <tr>\n",
       "      <th>10</th>\n",
       "      <td>70</td>\n",
       "      <td>70-74</td>\n",
       "    </tr>\n",
       "    <tr>\n",
       "      <th>11</th>\n",
       "      <td>70</td>\n",
       "      <td>70-74</td>\n",
       "    </tr>\n",
       "    <tr>\n",
       "      <th>12</th>\n",
       "      <td>70</td>\n",
       "      <td>70-74</td>\n",
       "    </tr>\n",
       "    <tr>\n",
       "      <th>13</th>\n",
       "      <td>70</td>\n",
       "      <td>70-74</td>\n",
       "    </tr>\n",
       "    <tr>\n",
       "      <th>14</th>\n",
       "      <td>70</td>\n",
       "      <td>70-74</td>\n",
       "    </tr>\n",
       "    <tr>\n",
       "      <th>15</th>\n",
       "      <td>70</td>\n",
       "      <td>70-74</td>\n",
       "    </tr>\n",
       "    <tr>\n",
       "      <th>16</th>\n",
       "      <td>70</td>\n",
       "      <td>70-74</td>\n",
       "    </tr>\n",
       "    <tr>\n",
       "      <th>17</th>\n",
       "      <td>70</td>\n",
       "      <td>70-74</td>\n",
       "    </tr>\n",
       "    <tr>\n",
       "      <th>18</th>\n",
       "      <td>70</td>\n",
       "      <td>70-74</td>\n",
       "    </tr>\n",
       "    <tr>\n",
       "      <th>19</th>\n",
       "      <td>70</td>\n",
       "      <td>70-74</td>\n",
       "    </tr>\n",
       "  </tbody>\n",
       "</table>\n",
       "</div>"
      ],
      "text/plain": [
       "    model year modelyear_binned\n",
       "0           70            70-74\n",
       "1           70            70-74\n",
       "2           70            70-74\n",
       "3           70            70-74\n",
       "4           70            70-74\n",
       "5           70            70-74\n",
       "6           70            70-74\n",
       "7           70            70-74\n",
       "8           70            70-74\n",
       "9           70            70-74\n",
       "10          70            70-74\n",
       "11          70            70-74\n",
       "12          70            70-74\n",
       "13          70            70-74\n",
       "14          70            70-74\n",
       "15          70            70-74\n",
       "16          70            70-74\n",
       "17          70            70-74\n",
       "18          70            70-74\n",
       "19          70            70-74"
      ]
     },
     "execution_count": 167,
     "metadata": {},
     "output_type": "execute_result"
    }
   ],
   "source": [
    "df[['model year','modelyear_binned']].head(20)\n"
   ]
  },
  {
   "cell_type": "code",
   "execution_count": 168,
   "metadata": {},
   "outputs": [
    {
     "data": {
      "text/plain": [
       "70-74    152\n",
       "75-79    128\n",
       "80-83    118\n",
       "Name: modelyear_binned, dtype: int64"
      ]
     },
     "execution_count": 168,
     "metadata": {},
     "output_type": "execute_result"
    }
   ],
   "source": [
    "c=df[\"modelyear_binned\"].value_counts()\n",
    "c"
   ]
  },
  {
   "cell_type": "code",
   "execution_count": 169,
   "metadata": {},
   "outputs": [
    {
     "data": {
      "text/plain": [
       "<matplotlib.axes._subplots.AxesSubplot at 0x7f556573f828>"
      ]
     },
     "execution_count": 169,
     "metadata": {},
     "output_type": "execute_result"
    },
    {
     "data": {
      "image/png": "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\n",
      "text/plain": [
       "<Figure size 842.4x595.44 with 1 Axes>"
      ]
     },
     "metadata": {},
     "output_type": "display_data"
    }
   ],
   "source": [
    "sns.barplot(x=\"modelyear_binned\", y=\"mpg\", data=df)"
   ]
  },
  {
   "cell_type": "code",
   "execution_count": 170,
   "metadata": {},
   "outputs": [
    {
     "data": {
      "text/plain": [
       "<matplotlib.axes._subplots.AxesSubplot at 0x7f55653e55f8>"
      ]
     },
     "execution_count": 170,
     "metadata": {},
     "output_type": "execute_result"
    },
    {
     "data": {
      "image/png": "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\n",
      "text/plain": [
       "<Figure size 842.4x595.44 with 1 Axes>"
      ]
     },
     "metadata": {},
     "output_type": "display_data"
    }
   ],
   "source": [
    "sns.boxplot(x=\"modelyear_binned\", y=\"mpg\", data=df)"
   ]
  },
  {
   "cell_type": "code",
   "execution_count": 171,
   "metadata": {},
   "outputs": [],
   "source": [
    "df_group_one = df[['modelyear_binned','mpg']]\n"
   ]
  },
  {
   "cell_type": "code",
   "execution_count": 172,
   "metadata": {},
   "outputs": [
    {
     "data": {
      "text/html": [
       "<div>\n",
       "<style scoped>\n",
       "    .dataframe tbody tr th:only-of-type {\n",
       "        vertical-align: middle;\n",
       "    }\n",
       "\n",
       "    .dataframe tbody tr th {\n",
       "        vertical-align: top;\n",
       "    }\n",
       "\n",
       "    .dataframe thead th {\n",
       "        text-align: right;\n",
       "    }\n",
       "</style>\n",
       "<table border=\"1\" class=\"dataframe\">\n",
       "  <thead>\n",
       "    <tr style=\"text-align: right;\">\n",
       "      <th></th>\n",
       "      <th>modelyear_binned</th>\n",
       "      <th>mpg</th>\n",
       "    </tr>\n",
       "  </thead>\n",
       "  <tbody>\n",
       "    <tr>\n",
       "      <th>0</th>\n",
       "      <td>70-74</td>\n",
       "      <td>19.269737</td>\n",
       "    </tr>\n",
       "    <tr>\n",
       "      <th>1</th>\n",
       "      <td>75-79</td>\n",
       "      <td>22.360937</td>\n",
       "    </tr>\n",
       "    <tr>\n",
       "      <th>2</th>\n",
       "      <td>80-83</td>\n",
       "      <td>30.233898</td>\n",
       "    </tr>\n",
       "  </tbody>\n",
       "</table>\n",
       "</div>"
      ],
      "text/plain": [
       "  modelyear_binned        mpg\n",
       "0            70-74  19.269737\n",
       "1            75-79  22.360937\n",
       "2            80-83  30.233898"
      ]
     },
     "execution_count": 172,
     "metadata": {},
     "output_type": "execute_result"
    }
   ],
   "source": [
    "#let see mean of each model year (2methods)\n",
    "df_group_one = df_group_one.groupby(['modelyear_binned'],as_index=False).mean()\n",
    "df_group_one"
   ]
  },
  {
   "cell_type": "code",
   "execution_count": 173,
   "metadata": {},
   "outputs": [
    {
     "data": {
      "text/plain": [
       "{'classical cars mpg avg': 19.269736842105264,\n",
       " 'outoffashion cars mpg avg': 22.3609375,\n",
       " 'new mpg avg': 30.23389830508475}"
      ]
     },
     "execution_count": 173,
     "metadata": {},
     "output_type": "execute_result"
    }
   ],
   "source": [
    "classic = df.loc[df.modelyear_binned==\"70-74\", \"mpg\"]\n",
    "out_of_fashion = df.loc[df.modelyear_binned==\"75-79\", \"mpg\"]\n",
    "new = df.loc[df.modelyear_binned==\"80-83\",\"mpg\"]\n",
    "{\"classical cars mpg avg\":classic.mean() ,\"outoffashion cars mpg avg\":out_of_fashion.mean() ,\"new mpg avg\":new.mean() }"
   ]
  },
  {
   "cell_type": "code",
   "execution_count": 174,
   "metadata": {},
   "outputs": [
    {
     "data": {
      "text/plain": [
       "76.01005025125629"
      ]
     },
     "execution_count": 174,
     "metadata": {},
     "output_type": "execute_result"
    }
   ],
   "source": [
    "df['model year'].mean()"
   ]
  },
  {
   "cell_type": "code",
   "execution_count": 175,
   "metadata": {},
   "outputs": [],
   "source": [
    "#we can see that the 80-83 fashion have 30.23 in average the mpg average, we want to verifiy the next hypothesis h0:'vehicule of 80-83 years \n",
    "#consumes more galons per mile'"
   ]
  },
  {
   "cell_type": "code",
   "execution_count": 176,
   "metadata": {},
   "outputs": [
    {
     "name": "stdout",
     "output_type": "stream",
     "text": [
      "reject null hypothesis\n"
     ]
    }
   ],
   "source": [
    "#ANOVA test\n",
    "f,p=stats.f_oneway( out_of_fashion, classic,new)\n",
    "if p<0.05:\n",
    "    print(\"reject null hypothesis\")\n",
    "else:\n",
    "    print(\"accept null hypothesis\")"
   ]
  },
  {
   "cell_type": "code",
   "execution_count": 177,
   "metadata": {},
   "outputs": [],
   "source": [
    "#let build a regression tree model"
   ]
  },
  {
   "cell_type": "code",
   "execution_count": 178,
   "metadata": {},
   "outputs": [],
   "source": [
    "y = df.mpg\n",
    "X = df[['horsepower','displacement','weight']]"
   ]
  },
  {
   "cell_type": "code",
   "execution_count": 179,
   "metadata": {},
   "outputs": [],
   "source": [
    "X_train, X_test, y_train, y_test = sklearn.model_selection.train_test_split(X, y,test_size=0.2)"
   ]
  },
  {
   "cell_type": "code",
   "execution_count": 180,
   "metadata": {},
   "outputs": [
    {
     "data": {
      "text/html": [
       "<div>\n",
       "<style scoped>\n",
       "    .dataframe tbody tr th:only-of-type {\n",
       "        vertical-align: middle;\n",
       "    }\n",
       "\n",
       "    .dataframe tbody tr th {\n",
       "        vertical-align: top;\n",
       "    }\n",
       "\n",
       "    .dataframe thead th {\n",
       "        text-align: right;\n",
       "    }\n",
       "</style>\n",
       "<table border=\"1\" class=\"dataframe\">\n",
       "  <thead>\n",
       "    <tr style=\"text-align: right;\">\n",
       "      <th></th>\n",
       "      <th>horsepower</th>\n",
       "      <th>displacement</th>\n",
       "      <th>weight</th>\n",
       "    </tr>\n",
       "  </thead>\n",
       "  <tbody>\n",
       "    <tr>\n",
       "      <th>191</th>\n",
       "      <td>100.0</td>\n",
       "      <td>225.0</td>\n",
       "      <td>3233.0</td>\n",
       "    </tr>\n",
       "    <tr>\n",
       "      <th>310</th>\n",
       "      <td>60.0</td>\n",
       "      <td>89.0</td>\n",
       "      <td>1968.0</td>\n",
       "    </tr>\n",
       "    <tr>\n",
       "      <th>181</th>\n",
       "      <td>53.0</td>\n",
       "      <td>91.0</td>\n",
       "      <td>1795.0</td>\n",
       "    </tr>\n",
       "    <tr>\n",
       "      <th>133</th>\n",
       "      <td>100.0</td>\n",
       "      <td>250.0</td>\n",
       "      <td>3781.0</td>\n",
       "    </tr>\n",
       "    <tr>\n",
       "      <th>280</th>\n",
       "      <td>115.0</td>\n",
       "      <td>231.0</td>\n",
       "      <td>3245.0</td>\n",
       "    </tr>\n",
       "  </tbody>\n",
       "</table>\n",
       "</div>"
      ],
      "text/plain": [
       "     horsepower  displacement  weight\n",
       "191       100.0         225.0  3233.0\n",
       "310        60.0          89.0  1968.0\n",
       "181        53.0          91.0  1795.0\n",
       "133       100.0         250.0  3781.0\n",
       "280       115.0         231.0  3245.0"
      ]
     },
     "execution_count": 180,
     "metadata": {},
     "output_type": "execute_result"
    }
   ],
   "source": [
    "X_train.head()"
   ]
  },
  {
   "cell_type": "code",
   "execution_count": 181,
   "metadata": {},
   "outputs": [
    {
     "data": {
      "text/plain": [
       "DecisionTreeRegressor(criterion='mse', max_depth=None, max_features=None,\n",
       "           max_leaf_nodes=None, min_impurity_decrease=0.0,\n",
       "           min_impurity_split=None, min_samples_leaf=1,\n",
       "           min_samples_split=2, min_weight_fraction_leaf=0.0,\n",
       "           presort=False, random_state=None, splitter='best')"
      ]
     },
     "execution_count": 181,
     "metadata": {},
     "output_type": "execute_result"
    }
   ],
   "source": [
    "clf=tree.DecisionTreeRegressor()\n",
    "clf.fit(X_train, y_train)"
   ]
  },
  {
   "cell_type": "code",
   "execution_count": 182,
   "metadata": {},
   "outputs": [
    {
     "data": {
      "text/plain": [
       "(array([19.8, 23.9, 41.5, 18.5, 23. , 32.9, 15. , 19.4, 37. , 25.8, 19.4,\n",
       "        21. , 36. , 35. , 17.5, 23.9, 18. , 31. , 26.6, 22. , 36. , 24. ,\n",
       "        32.2, 34. , 13. , 22. , 33.5, 14. , 25.4, 44.6, 13. , 27. , 18. ,\n",
       "        10. , 23.9, 29. , 18.1, 21.1, 14. , 14. , 16. , 41.5, 18.5, 21. ,\n",
       "        22. , 24. , 31. , 26. , 18.5, 36. , 31.9, 29.5, 27. , 37.2, 36. ,\n",
       "        41.5, 34.4, 13. , 44. , 19. , 34.3, 21. , 15. , 23. , 22. , 15. ,\n",
       "        34.4, 28. , 24. , 34.5, 28.4, 18. , 31. , 23. , 14. , 27. , 31. ,\n",
       "        37.2, 34.4, 37.2]),\n",
       " array([24. , 27.2, 35.7, 16. , 19. , 23. , 13. , 17. , 37.3, 26. , 22.5,\n",
       "        36. , 32. , 38. , 38. , 15. , 18. , 31. , 23. , 21. , 33. , 25. ,\n",
       "        32.4, 34.2, 14. , 25. , 26. , 11. , 28.1, 29.8, 15.5, 27. , 22. ,\n",
       "        14. , 18. , 28. , 13. , 21. , 15. , 14.5, 19.2, 33.5, 15. , 23. ,\n",
       "        35. , 28. , 34.1, 28. , 15. , 34.5, 31.5, 31.5, 29. , 31.8, 32.1,\n",
       "        36. , 24.5, 16. , 33.8, 20.3, 30.5, 21. , 14. , 30. , 26. , 13. ,\n",
       "        29.9, 31. , 32. , 25. , 28. , 20. , 35. , 21. , 14. , 20. , 36. ,\n",
       "        40.8, 30.5, 46.6]))"
      ]
     },
     "execution_count": 182,
     "metadata": {},
     "output_type": "execute_result"
    }
   ],
   "source": [
    "#let's predict new value of mpg \n",
    "predicted0 = clf.predict(X_test)\n",
    "predicted0 , np.array(y_test)"
   ]
  },
  {
   "cell_type": "code",
   "execution_count": 184,
   "metadata": {},
   "outputs": [],
   "source": [
    "expected0 = y_test"
   ]
  },
  {
   "cell_type": "code",
   "execution_count": 185,
   "metadata": {},
   "outputs": [
    {
     "name": "stdout",
     "output_type": "stream",
     "text": [
      "mse 30.751125000000002\n",
      "R^2 0.5267951007099714\n"
     ]
    }
   ],
   "source": [
    "mse = np.mean((predicted0-expected0)**2)\n",
    "print (\"mse\",mse)\n",
    "print(\"R^2\",clf.score(X_test, y_test))\n"
   ]
  },
  {
   "cell_type": "code",
   "execution_count": null,
   "metadata": {},
   "outputs": [],
   "source": []
  }
 ],
 "metadata": {
  "kernelspec": {
   "display_name": "Python",
   "language": "python",
   "name": "conda-env-python-py"
  },
  "language_info": {
   "codemirror_mode": {
    "name": "ipython",
    "version": 3
   },
   "file_extension": ".py",
   "mimetype": "text/x-python",
   "name": "python",
   "nbconvert_exporter": "python",
   "pygments_lexer": "ipython3",
   "version": "3.6.10"
  }
 },
 "nbformat": 4,
 "nbformat_minor": 4
}
