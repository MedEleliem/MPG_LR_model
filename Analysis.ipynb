{
 "cells": [
  {
   "cell_type": "code",
   "execution_count": 249,
   "metadata": {},
   "outputs": [],
   "source": [
    "import seaborn as sns\n",
    "import matplotlib.pyplot as plt\n",
    "%matplotlib inline \n",
    "import numpy as np\n",
    "import pandas as pd\n",
    "import sklearn\n",
    "from sklearn import linear_model\n",
    "from sklearn.model_selection import train_test_split\n",
    "import statsmodels.api as sm\n",
    "from scipy import stats\n",
    "from sklearn import tree"
   ]
  },
  {
   "cell_type": "code",
   "execution_count": null,
   "metadata": {},
   "outputs": [],
   "source": [
    "#Created by: Mohamed El-eliem"
   ]
  },
  {
   "cell_type": "code",
   "execution_count": null,
   "metadata": {},
   "outputs": [],
   "source": [
    "#Data Wrangling :"
   ]
  },
  {
   "cell_type": "code",
   "execution_count": 250,
   "metadata": {},
   "outputs": [],
   "source": [
    "url='https://archive.ics.uci.edu/ml/machine-learning-databases/auto-mpg/auto-mpg.data'\n",
    "names=['mpg','cylinders','displacement','horsepower','weight','acceleration','model year','origin','car name']\n",
    "#origin model year and cylinders is a discret variables"
   ]
  },
  {
   "cell_type": "code",
   "execution_count": 251,
   "metadata": {},
   "outputs": [
    {
     "data": {
      "text/html": [
       "<div>\n",
       "<style scoped>\n",
       "    .dataframe tbody tr th:only-of-type {\n",
       "        vertical-align: middle;\n",
       "    }\n",
       "\n",
       "    .dataframe tbody tr th {\n",
       "        vertical-align: top;\n",
       "    }\n",
       "\n",
       "    .dataframe thead th {\n",
       "        text-align: right;\n",
       "    }\n",
       "</style>\n",
       "<table border=\"1\" class=\"dataframe\">\n",
       "  <thead>\n",
       "    <tr style=\"text-align: right;\">\n",
       "      <th></th>\n",
       "      <th>mpg</th>\n",
       "      <th>cylinders</th>\n",
       "      <th>displacement</th>\n",
       "      <th>horsepower</th>\n",
       "      <th>weight</th>\n",
       "      <th>acceleration</th>\n",
       "      <th>model year</th>\n",
       "      <th>origin</th>\n",
       "      <th>car name</th>\n",
       "    </tr>\n",
       "  </thead>\n",
       "  <tbody>\n",
       "    <tr>\n",
       "      <th>0</th>\n",
       "      <td>18.0</td>\n",
       "      <td>8</td>\n",
       "      <td>307.0</td>\n",
       "      <td>130.0</td>\n",
       "      <td>3504.0</td>\n",
       "      <td>12.0</td>\n",
       "      <td>70</td>\n",
       "      <td>1</td>\n",
       "      <td>chevrolet chevelle malibu</td>\n",
       "    </tr>\n",
       "    <tr>\n",
       "      <th>1</th>\n",
       "      <td>15.0</td>\n",
       "      <td>8</td>\n",
       "      <td>350.0</td>\n",
       "      <td>165.0</td>\n",
       "      <td>3693.0</td>\n",
       "      <td>11.5</td>\n",
       "      <td>70</td>\n",
       "      <td>1</td>\n",
       "      <td>buick skylark 320</td>\n",
       "    </tr>\n",
       "    <tr>\n",
       "      <th>2</th>\n",
       "      <td>18.0</td>\n",
       "      <td>8</td>\n",
       "      <td>318.0</td>\n",
       "      <td>150.0</td>\n",
       "      <td>3436.0</td>\n",
       "      <td>11.0</td>\n",
       "      <td>70</td>\n",
       "      <td>1</td>\n",
       "      <td>plymouth satellite</td>\n",
       "    </tr>\n",
       "    <tr>\n",
       "      <th>3</th>\n",
       "      <td>16.0</td>\n",
       "      <td>8</td>\n",
       "      <td>304.0</td>\n",
       "      <td>150.0</td>\n",
       "      <td>3433.0</td>\n",
       "      <td>12.0</td>\n",
       "      <td>70</td>\n",
       "      <td>1</td>\n",
       "      <td>amc rebel sst</td>\n",
       "    </tr>\n",
       "    <tr>\n",
       "      <th>4</th>\n",
       "      <td>17.0</td>\n",
       "      <td>8</td>\n",
       "      <td>302.0</td>\n",
       "      <td>140.0</td>\n",
       "      <td>3449.0</td>\n",
       "      <td>10.5</td>\n",
       "      <td>70</td>\n",
       "      <td>1</td>\n",
       "      <td>ford torino</td>\n",
       "    </tr>\n",
       "  </tbody>\n",
       "</table>\n",
       "</div>"
      ],
      "text/plain": [
       "    mpg  cylinders  displacement horsepower  weight  acceleration  model year  \\\n",
       "0  18.0          8         307.0      130.0  3504.0          12.0          70   \n",
       "1  15.0          8         350.0      165.0  3693.0          11.5          70   \n",
       "2  18.0          8         318.0      150.0  3436.0          11.0          70   \n",
       "3  16.0          8         304.0      150.0  3433.0          12.0          70   \n",
       "4  17.0          8         302.0      140.0  3449.0          10.5          70   \n",
       "\n",
       "   origin                   car name  \n",
       "0       1  chevrolet chevelle malibu  \n",
       "1       1          buick skylark 320  \n",
       "2       1         plymouth satellite  \n",
       "3       1              amc rebel sst  \n",
       "4       1                ford torino  "
      ]
     },
     "execution_count": 251,
     "metadata": {},
     "output_type": "execute_result"
    }
   ],
   "source": [
    "df=pd.read_csv(url, header=None, delim_whitespace=True)\n",
    "df.columns=names\n",
    "df.head()"
   ]
  },
  {
   "cell_type": "code",
   "execution_count": 252,
   "metadata": {},
   "outputs": [
    {
     "data": {
      "text/plain": [
       "mpg             float64\n",
       "cylinders         int64\n",
       "displacement    float64\n",
       "horsepower       object\n",
       "weight          float64\n",
       "acceleration    float64\n",
       "model year        int64\n",
       "origin            int64\n",
       "car name         object\n",
       "dtype: object"
      ]
     },
     "execution_count": 252,
     "metadata": {},
     "output_type": "execute_result"
    }
   ],
   "source": [
    "df.dtypes"
   ]
  },
  {
   "cell_type": "code",
   "execution_count": 253,
   "metadata": {},
   "outputs": [],
   "source": [
    "#horsepower still an object, it needs to be turned to a continuous variable.\n",
    "#horsepower column is filled with str values"
   ]
  },
  {
   "cell_type": "code",
   "execution_count": 254,
   "metadata": {},
   "outputs": [
    {
     "data": {
      "text/html": [
       "<div>\n",
       "<style scoped>\n",
       "    .dataframe tbody tr th:only-of-type {\n",
       "        vertical-align: middle;\n",
       "    }\n",
       "\n",
       "    .dataframe tbody tr th {\n",
       "        vertical-align: top;\n",
       "    }\n",
       "\n",
       "    .dataframe thead th {\n",
       "        text-align: right;\n",
       "    }\n",
       "</style>\n",
       "<table border=\"1\" class=\"dataframe\">\n",
       "  <thead>\n",
       "    <tr style=\"text-align: right;\">\n",
       "      <th></th>\n",
       "      <th>mpg</th>\n",
       "      <th>cylinders</th>\n",
       "      <th>displacement</th>\n",
       "      <th>horsepower</th>\n",
       "      <th>weight</th>\n",
       "      <th>acceleration</th>\n",
       "      <th>model year</th>\n",
       "      <th>origin</th>\n",
       "      <th>car name</th>\n",
       "    </tr>\n",
       "  </thead>\n",
       "  <tbody>\n",
       "    <tr>\n",
       "      <th>32</th>\n",
       "      <td>25.0</td>\n",
       "      <td>4</td>\n",
       "      <td>98.0</td>\n",
       "      <td>?</td>\n",
       "      <td>2046.0</td>\n",
       "      <td>19.0</td>\n",
       "      <td>71</td>\n",
       "      <td>1</td>\n",
       "      <td>ford pinto</td>\n",
       "    </tr>\n",
       "    <tr>\n",
       "      <th>126</th>\n",
       "      <td>21.0</td>\n",
       "      <td>6</td>\n",
       "      <td>200.0</td>\n",
       "      <td>?</td>\n",
       "      <td>2875.0</td>\n",
       "      <td>17.0</td>\n",
       "      <td>74</td>\n",
       "      <td>1</td>\n",
       "      <td>ford maverick</td>\n",
       "    </tr>\n",
       "    <tr>\n",
       "      <th>330</th>\n",
       "      <td>40.9</td>\n",
       "      <td>4</td>\n",
       "      <td>85.0</td>\n",
       "      <td>?</td>\n",
       "      <td>1835.0</td>\n",
       "      <td>17.3</td>\n",
       "      <td>80</td>\n",
       "      <td>2</td>\n",
       "      <td>renault lecar deluxe</td>\n",
       "    </tr>\n",
       "    <tr>\n",
       "      <th>336</th>\n",
       "      <td>23.6</td>\n",
       "      <td>4</td>\n",
       "      <td>140.0</td>\n",
       "      <td>?</td>\n",
       "      <td>2905.0</td>\n",
       "      <td>14.3</td>\n",
       "      <td>80</td>\n",
       "      <td>1</td>\n",
       "      <td>ford mustang cobra</td>\n",
       "    </tr>\n",
       "    <tr>\n",
       "      <th>354</th>\n",
       "      <td>34.5</td>\n",
       "      <td>4</td>\n",
       "      <td>100.0</td>\n",
       "      <td>?</td>\n",
       "      <td>2320.0</td>\n",
       "      <td>15.8</td>\n",
       "      <td>81</td>\n",
       "      <td>2</td>\n",
       "      <td>renault 18i</td>\n",
       "    </tr>\n",
       "    <tr>\n",
       "      <th>374</th>\n",
       "      <td>23.0</td>\n",
       "      <td>4</td>\n",
       "      <td>151.0</td>\n",
       "      <td>?</td>\n",
       "      <td>3035.0</td>\n",
       "      <td>20.5</td>\n",
       "      <td>82</td>\n",
       "      <td>1</td>\n",
       "      <td>amc concord dl</td>\n",
       "    </tr>\n",
       "  </tbody>\n",
       "</table>\n",
       "</div>"
      ],
      "text/plain": [
       "      mpg  cylinders  displacement horsepower  weight  acceleration  \\\n",
       "32   25.0          4          98.0          ?  2046.0          19.0   \n",
       "126  21.0          6         200.0          ?  2875.0          17.0   \n",
       "330  40.9          4          85.0          ?  1835.0          17.3   \n",
       "336  23.6          4         140.0          ?  2905.0          14.3   \n",
       "354  34.5          4         100.0          ?  2320.0          15.8   \n",
       "374  23.0          4         151.0          ?  3035.0          20.5   \n",
       "\n",
       "     model year  origin              car name  \n",
       "32           71       1            ford pinto  \n",
       "126          74       1         ford maverick  \n",
       "330          80       2  renault lecar deluxe  \n",
       "336          80       1    ford mustang cobra  \n",
       "354          81       2           renault 18i  \n",
       "374          82       1        amc concord dl  "
      ]
     },
     "execution_count": 254,
     "metadata": {},
     "output_type": "execute_result"
    }
   ],
   "source": [
    "df.loc[df.horsepower=='?']"
   ]
  },
  {
   "cell_type": "code",
   "execution_count": 255,
   "metadata": {},
   "outputs": [
    {
     "data": {
      "text/plain": [
       "mpg             float64\n",
       "cylinders         int64\n",
       "displacement    float64\n",
       "horsepower       object\n",
       "weight          float64\n",
       "acceleration    float64\n",
       "model year        int64\n",
       "origin            int64\n",
       "car name         object\n",
       "dtype: object"
      ]
     },
     "execution_count": 255,
     "metadata": {},
     "output_type": "execute_result"
    }
   ],
   "source": [
    "df.dtypes\n",
    "#the original type of the horsepower columns is str, we should handle it."
   ]
  },
  {
   "cell_type": "code",
   "execution_count": 256,
   "metadata": {},
   "outputs": [
    {
     "data": {
      "text/html": [
       "<div>\n",
       "<style scoped>\n",
       "    .dataframe tbody tr th:only-of-type {\n",
       "        vertical-align: middle;\n",
       "    }\n",
       "\n",
       "    .dataframe tbody tr th {\n",
       "        vertical-align: top;\n",
       "    }\n",
       "\n",
       "    .dataframe thead th {\n",
       "        text-align: right;\n",
       "    }\n",
       "</style>\n",
       "<table border=\"1\" class=\"dataframe\">\n",
       "  <thead>\n",
       "    <tr style=\"text-align: right;\">\n",
       "      <th></th>\n",
       "      <th>mpg</th>\n",
       "      <th>cylinders</th>\n",
       "      <th>displacement</th>\n",
       "      <th>horsepower</th>\n",
       "      <th>weight</th>\n",
       "      <th>acceleration</th>\n",
       "      <th>model year</th>\n",
       "      <th>origin</th>\n",
       "      <th>car name</th>\n",
       "    </tr>\n",
       "  </thead>\n",
       "  <tbody>\n",
       "    <tr>\n",
       "      <th>0</th>\n",
       "      <td>18.0</td>\n",
       "      <td>8</td>\n",
       "      <td>307.0</td>\n",
       "      <td>130.0</td>\n",
       "      <td>3504.0</td>\n",
       "      <td>12.0</td>\n",
       "      <td>70</td>\n",
       "      <td>1</td>\n",
       "      <td>chevrolet chevelle malibu</td>\n",
       "    </tr>\n",
       "    <tr>\n",
       "      <th>1</th>\n",
       "      <td>15.0</td>\n",
       "      <td>8</td>\n",
       "      <td>350.0</td>\n",
       "      <td>165.0</td>\n",
       "      <td>3693.0</td>\n",
       "      <td>11.5</td>\n",
       "      <td>70</td>\n",
       "      <td>1</td>\n",
       "      <td>buick skylark 320</td>\n",
       "    </tr>\n",
       "    <tr>\n",
       "      <th>2</th>\n",
       "      <td>18.0</td>\n",
       "      <td>8</td>\n",
       "      <td>318.0</td>\n",
       "      <td>150.0</td>\n",
       "      <td>3436.0</td>\n",
       "      <td>11.0</td>\n",
       "      <td>70</td>\n",
       "      <td>1</td>\n",
       "      <td>plymouth satellite</td>\n",
       "    </tr>\n",
       "    <tr>\n",
       "      <th>3</th>\n",
       "      <td>16.0</td>\n",
       "      <td>8</td>\n",
       "      <td>304.0</td>\n",
       "      <td>150.0</td>\n",
       "      <td>3433.0</td>\n",
       "      <td>12.0</td>\n",
       "      <td>70</td>\n",
       "      <td>1</td>\n",
       "      <td>amc rebel sst</td>\n",
       "    </tr>\n",
       "    <tr>\n",
       "      <th>4</th>\n",
       "      <td>17.0</td>\n",
       "      <td>8</td>\n",
       "      <td>302.0</td>\n",
       "      <td>140.0</td>\n",
       "      <td>3449.0</td>\n",
       "      <td>10.5</td>\n",
       "      <td>70</td>\n",
       "      <td>1</td>\n",
       "      <td>ford torino</td>\n",
       "    </tr>\n",
       "    <tr>\n",
       "      <th>...</th>\n",
       "      <td>...</td>\n",
       "      <td>...</td>\n",
       "      <td>...</td>\n",
       "      <td>...</td>\n",
       "      <td>...</td>\n",
       "      <td>...</td>\n",
       "      <td>...</td>\n",
       "      <td>...</td>\n",
       "      <td>...</td>\n",
       "    </tr>\n",
       "    <tr>\n",
       "      <th>393</th>\n",
       "      <td>27.0</td>\n",
       "      <td>4</td>\n",
       "      <td>140.0</td>\n",
       "      <td>86.0</td>\n",
       "      <td>2790.0</td>\n",
       "      <td>15.6</td>\n",
       "      <td>82</td>\n",
       "      <td>1</td>\n",
       "      <td>ford mustang gl</td>\n",
       "    </tr>\n",
       "    <tr>\n",
       "      <th>394</th>\n",
       "      <td>44.0</td>\n",
       "      <td>4</td>\n",
       "      <td>97.0</td>\n",
       "      <td>52.0</td>\n",
       "      <td>2130.0</td>\n",
       "      <td>24.6</td>\n",
       "      <td>82</td>\n",
       "      <td>2</td>\n",
       "      <td>vw pickup</td>\n",
       "    </tr>\n",
       "    <tr>\n",
       "      <th>395</th>\n",
       "      <td>32.0</td>\n",
       "      <td>4</td>\n",
       "      <td>135.0</td>\n",
       "      <td>84.0</td>\n",
       "      <td>2295.0</td>\n",
       "      <td>11.6</td>\n",
       "      <td>82</td>\n",
       "      <td>1</td>\n",
       "      <td>dodge rampage</td>\n",
       "    </tr>\n",
       "    <tr>\n",
       "      <th>396</th>\n",
       "      <td>28.0</td>\n",
       "      <td>4</td>\n",
       "      <td>120.0</td>\n",
       "      <td>79.0</td>\n",
       "      <td>2625.0</td>\n",
       "      <td>18.6</td>\n",
       "      <td>82</td>\n",
       "      <td>1</td>\n",
       "      <td>ford ranger</td>\n",
       "    </tr>\n",
       "    <tr>\n",
       "      <th>397</th>\n",
       "      <td>31.0</td>\n",
       "      <td>4</td>\n",
       "      <td>119.0</td>\n",
       "      <td>82.0</td>\n",
       "      <td>2720.0</td>\n",
       "      <td>19.4</td>\n",
       "      <td>82</td>\n",
       "      <td>1</td>\n",
       "      <td>chevy s-10</td>\n",
       "    </tr>\n",
       "  </tbody>\n",
       "</table>\n",
       "<p>398 rows × 9 columns</p>\n",
       "</div>"
      ],
      "text/plain": [
       "      mpg  cylinders  displacement  horsepower  weight  acceleration  \\\n",
       "0    18.0          8         307.0       130.0  3504.0          12.0   \n",
       "1    15.0          8         350.0       165.0  3693.0          11.5   \n",
       "2    18.0          8         318.0       150.0  3436.0          11.0   \n",
       "3    16.0          8         304.0       150.0  3433.0          12.0   \n",
       "4    17.0          8         302.0       140.0  3449.0          10.5   \n",
       "..    ...        ...           ...         ...     ...           ...   \n",
       "393  27.0          4         140.0        86.0  2790.0          15.6   \n",
       "394  44.0          4          97.0        52.0  2130.0          24.6   \n",
       "395  32.0          4         135.0        84.0  2295.0          11.6   \n",
       "396  28.0          4         120.0        79.0  2625.0          18.6   \n",
       "397  31.0          4         119.0        82.0  2720.0          19.4   \n",
       "\n",
       "     model year  origin                   car name  \n",
       "0            70       1  chevrolet chevelle malibu  \n",
       "1            70       1          buick skylark 320  \n",
       "2            70       1         plymouth satellite  \n",
       "3            70       1              amc rebel sst  \n",
       "4            70       1                ford torino  \n",
       "..          ...     ...                        ...  \n",
       "393          82       1            ford mustang gl  \n",
       "394          82       2                  vw pickup  \n",
       "395          82       1              dodge rampage  \n",
       "396          82       1                ford ranger  \n",
       "397          82       1                 chevy s-10  \n",
       "\n",
       "[398 rows x 9 columns]"
      ]
     },
     "execution_count": 256,
     "metadata": {},
     "output_type": "execute_result"
    }
   ],
   "source": [
    "df['horsepower'].replace(to_replace='?',value='0', inplace=True)# turn the '?' values to '0'\n",
    "df[['horsepower']]=df[['horsepower']].astype('float')#changing the type from str to float\n",
    "df['horsepower'].replace(to_replace=np.NaN, value=df['horsepower'].mean(), inplace=True)#replacing 0 with NaN in numpy \n",
    "df.fillna(df.mean(skipna=True)) #fill the NaN in all the columns"
   ]
  },
  {
   "cell_type": "code",
   "execution_count": 257,
   "metadata": {},
   "outputs": [
    {
     "data": {
      "text/html": [
       "<div>\n",
       "<style scoped>\n",
       "    .dataframe tbody tr th:only-of-type {\n",
       "        vertical-align: middle;\n",
       "    }\n",
       "\n",
       "    .dataframe tbody tr th {\n",
       "        vertical-align: top;\n",
       "    }\n",
       "\n",
       "    .dataframe thead th {\n",
       "        text-align: right;\n",
       "    }\n",
       "</style>\n",
       "<table border=\"1\" class=\"dataframe\">\n",
       "  <thead>\n",
       "    <tr style=\"text-align: right;\">\n",
       "      <th></th>\n",
       "      <th>mpg</th>\n",
       "      <th>cylinders</th>\n",
       "      <th>displacement</th>\n",
       "      <th>horsepower</th>\n",
       "      <th>weight</th>\n",
       "      <th>acceleration</th>\n",
       "      <th>model year</th>\n",
       "      <th>origin</th>\n",
       "      <th>car name</th>\n",
       "    </tr>\n",
       "  </thead>\n",
       "  <tbody>\n",
       "  </tbody>\n",
       "</table>\n",
       "</div>"
      ],
      "text/plain": [
       "Empty DataFrame\n",
       "Columns: [mpg, cylinders, displacement, horsepower, weight, acceleration, model year, origin, car name]\n",
       "Index: []"
      ]
     },
     "execution_count": 257,
     "metadata": {},
     "output_type": "execute_result"
    }
   ],
   "source": [
    "df.loc[df.horsepower==np.NaN ] #as we can see there's no more 0 value for horsepower features"
   ]
  },
  {
   "cell_type": "code",
   "execution_count": 258,
   "metadata": {},
   "outputs": [
    {
     "data": {
      "text/plain": [
       "mpg             float64\n",
       "cylinders         int64\n",
       "displacement    float64\n",
       "horsepower      float64\n",
       "weight          float64\n",
       "acceleration    float64\n",
       "model year        int64\n",
       "origin            int64\n",
       "car name         object\n",
       "dtype: object"
      ]
     },
     "execution_count": 258,
     "metadata": {},
     "output_type": "execute_result"
    }
   ],
   "source": [
    "df.dtypes\n",
    "#everything seems good now"
   ]
  },
  {
   "cell_type": "code",
   "execution_count": 259,
   "metadata": {},
   "outputs": [
    {
     "data": {
      "text/plain": [
       "mpg             0\n",
       "cylinders       0\n",
       "displacement    0\n",
       "horsepower      0\n",
       "weight          0\n",
       "acceleration    0\n",
       "model year      0\n",
       "origin          0\n",
       "car name        0\n",
       "dtype: int64"
      ]
     },
     "execution_count": 259,
     "metadata": {},
     "output_type": "execute_result"
    }
   ],
   "source": [
    "df.isnull().sum()\n",
    "#all the NaN values are filled in "
   ]
  },
  {
   "cell_type": "code",
   "execution_count": 260,
   "metadata": {},
   "outputs": [],
   "source": [
    "#analysis"
   ]
  },
  {
   "cell_type": "code",
   "execution_count": 261,
   "metadata": {},
   "outputs": [
    {
     "data": {
      "text/html": [
       "<div>\n",
       "<style scoped>\n",
       "    .dataframe tbody tr th:only-of-type {\n",
       "        vertical-align: middle;\n",
       "    }\n",
       "\n",
       "    .dataframe tbody tr th {\n",
       "        vertical-align: top;\n",
       "    }\n",
       "\n",
       "    .dataframe thead th {\n",
       "        text-align: right;\n",
       "    }\n",
       "</style>\n",
       "<table border=\"1\" class=\"dataframe\">\n",
       "  <thead>\n",
       "    <tr style=\"text-align: right;\">\n",
       "      <th></th>\n",
       "      <th>mpg</th>\n",
       "      <th>cylinders</th>\n",
       "      <th>displacement</th>\n",
       "      <th>horsepower</th>\n",
       "      <th>weight</th>\n",
       "      <th>acceleration</th>\n",
       "      <th>model year</th>\n",
       "      <th>origin</th>\n",
       "    </tr>\n",
       "  </thead>\n",
       "  <tbody>\n",
       "    <tr>\n",
       "      <th>count</th>\n",
       "      <td>398.000000</td>\n",
       "      <td>398.000000</td>\n",
       "      <td>398.000000</td>\n",
       "      <td>398.000000</td>\n",
       "      <td>398.000000</td>\n",
       "      <td>398.000000</td>\n",
       "      <td>398.000000</td>\n",
       "      <td>398.000000</td>\n",
       "    </tr>\n",
       "    <tr>\n",
       "      <th>mean</th>\n",
       "      <td>23.514573</td>\n",
       "      <td>5.454774</td>\n",
       "      <td>193.425879</td>\n",
       "      <td>102.894472</td>\n",
       "      <td>2970.424623</td>\n",
       "      <td>15.568090</td>\n",
       "      <td>76.010050</td>\n",
       "      <td>1.572864</td>\n",
       "    </tr>\n",
       "    <tr>\n",
       "      <th>std</th>\n",
       "      <td>7.815984</td>\n",
       "      <td>1.701004</td>\n",
       "      <td>104.269838</td>\n",
       "      <td>40.269544</td>\n",
       "      <td>846.841774</td>\n",
       "      <td>2.757689</td>\n",
       "      <td>3.697627</td>\n",
       "      <td>0.802055</td>\n",
       "    </tr>\n",
       "    <tr>\n",
       "      <th>min</th>\n",
       "      <td>9.000000</td>\n",
       "      <td>3.000000</td>\n",
       "      <td>68.000000</td>\n",
       "      <td>0.000000</td>\n",
       "      <td>1613.000000</td>\n",
       "      <td>8.000000</td>\n",
       "      <td>70.000000</td>\n",
       "      <td>1.000000</td>\n",
       "    </tr>\n",
       "    <tr>\n",
       "      <th>25%</th>\n",
       "      <td>17.500000</td>\n",
       "      <td>4.000000</td>\n",
       "      <td>104.250000</td>\n",
       "      <td>75.000000</td>\n",
       "      <td>2223.750000</td>\n",
       "      <td>13.825000</td>\n",
       "      <td>73.000000</td>\n",
       "      <td>1.000000</td>\n",
       "    </tr>\n",
       "    <tr>\n",
       "      <th>50%</th>\n",
       "      <td>23.000000</td>\n",
       "      <td>4.000000</td>\n",
       "      <td>148.500000</td>\n",
       "      <td>92.000000</td>\n",
       "      <td>2803.500000</td>\n",
       "      <td>15.500000</td>\n",
       "      <td>76.000000</td>\n",
       "      <td>1.000000</td>\n",
       "    </tr>\n",
       "    <tr>\n",
       "      <th>75%</th>\n",
       "      <td>29.000000</td>\n",
       "      <td>8.000000</td>\n",
       "      <td>262.000000</td>\n",
       "      <td>125.000000</td>\n",
       "      <td>3608.000000</td>\n",
       "      <td>17.175000</td>\n",
       "      <td>79.000000</td>\n",
       "      <td>2.000000</td>\n",
       "    </tr>\n",
       "    <tr>\n",
       "      <th>max</th>\n",
       "      <td>46.600000</td>\n",
       "      <td>8.000000</td>\n",
       "      <td>455.000000</td>\n",
       "      <td>230.000000</td>\n",
       "      <td>5140.000000</td>\n",
       "      <td>24.800000</td>\n",
       "      <td>82.000000</td>\n",
       "      <td>3.000000</td>\n",
       "    </tr>\n",
       "  </tbody>\n",
       "</table>\n",
       "</div>"
      ],
      "text/plain": [
       "              mpg   cylinders  displacement  horsepower       weight  \\\n",
       "count  398.000000  398.000000    398.000000  398.000000   398.000000   \n",
       "mean    23.514573    5.454774    193.425879  102.894472  2970.424623   \n",
       "std      7.815984    1.701004    104.269838   40.269544   846.841774   \n",
       "min      9.000000    3.000000     68.000000    0.000000  1613.000000   \n",
       "25%     17.500000    4.000000    104.250000   75.000000  2223.750000   \n",
       "50%     23.000000    4.000000    148.500000   92.000000  2803.500000   \n",
       "75%     29.000000    8.000000    262.000000  125.000000  3608.000000   \n",
       "max     46.600000    8.000000    455.000000  230.000000  5140.000000   \n",
       "\n",
       "       acceleration  model year      origin  \n",
       "count    398.000000  398.000000  398.000000  \n",
       "mean      15.568090   76.010050    1.572864  \n",
       "std        2.757689    3.697627    0.802055  \n",
       "min        8.000000   70.000000    1.000000  \n",
       "25%       13.825000   73.000000    1.000000  \n",
       "50%       15.500000   76.000000    1.000000  \n",
       "75%       17.175000   79.000000    2.000000  \n",
       "max       24.800000   82.000000    3.000000  "
      ]
     },
     "execution_count": 261,
     "metadata": {},
     "output_type": "execute_result"
    }
   ],
   "source": [
    "df.describe()"
   ]
  },
  {
   "cell_type": "code",
   "execution_count": 262,
   "metadata": {},
   "outputs": [
    {
     "data": {
      "text/plain": [
       "(22.74669838467897, 24.282447343964243)"
      ]
     },
     "execution_count": 262,
     "metadata": {},
     "output_type": "execute_result"
    }
   ],
   "source": [
    "sm.stats.DescrStatsW(df[\"mpg\"]).zconfint_mean()\n",
    "#With 95% confidence level, the mpg mean is estimated to be between 22.74669838467897 and 24.282447343964243"
   ]
  },
  {
   "cell_type": "code",
   "execution_count": 263,
   "metadata": {},
   "outputs": [
    {
     "data": {
      "text/plain": [
       "count            398\n",
       "unique           305\n",
       "top       ford pinto\n",
       "freq               6\n",
       "Name: car name, dtype: object"
      ]
     },
     "execution_count": 263,
     "metadata": {},
     "output_type": "execute_result"
    }
   ],
   "source": [
    "df['car name'].describe()"
   ]
  },
  {
   "cell_type": "code",
   "execution_count": 264,
   "metadata": {},
   "outputs": [
    {
     "data": {
      "text/html": [
       "<div>\n",
       "<style scoped>\n",
       "    .dataframe tbody tr th:only-of-type {\n",
       "        vertical-align: middle;\n",
       "    }\n",
       "\n",
       "    .dataframe tbody tr th {\n",
       "        vertical-align: top;\n",
       "    }\n",
       "\n",
       "    .dataframe thead th {\n",
       "        text-align: right;\n",
       "    }\n",
       "</style>\n",
       "<table border=\"1\" class=\"dataframe\">\n",
       "  <thead>\n",
       "    <tr style=\"text-align: right;\">\n",
       "      <th></th>\n",
       "      <th>mpg</th>\n",
       "      <th>cylinders</th>\n",
       "      <th>displacement</th>\n",
       "      <th>horsepower</th>\n",
       "      <th>weight</th>\n",
       "      <th>acceleration</th>\n",
       "      <th>model year</th>\n",
       "      <th>origin</th>\n",
       "    </tr>\n",
       "  </thead>\n",
       "  <tbody>\n",
       "    <tr>\n",
       "      <th>mpg</th>\n",
       "      <td>1.000000</td>\n",
       "      <td>-0.775396</td>\n",
       "      <td>-0.804203</td>\n",
       "      <td>-0.754276</td>\n",
       "      <td>-0.831741</td>\n",
       "      <td>0.420289</td>\n",
       "      <td>0.579267</td>\n",
       "      <td>0.563450</td>\n",
       "    </tr>\n",
       "    <tr>\n",
       "      <th>cylinders</th>\n",
       "      <td>-0.775396</td>\n",
       "      <td>1.000000</td>\n",
       "      <td>0.950721</td>\n",
       "      <td>0.821656</td>\n",
       "      <td>0.896017</td>\n",
       "      <td>-0.505419</td>\n",
       "      <td>-0.348746</td>\n",
       "      <td>-0.562543</td>\n",
       "    </tr>\n",
       "    <tr>\n",
       "      <th>displacement</th>\n",
       "      <td>-0.804203</td>\n",
       "      <td>0.950721</td>\n",
       "      <td>1.000000</td>\n",
       "      <td>0.871927</td>\n",
       "      <td>0.932824</td>\n",
       "      <td>-0.543684</td>\n",
       "      <td>-0.370164</td>\n",
       "      <td>-0.609409</td>\n",
       "    </tr>\n",
       "    <tr>\n",
       "      <th>horsepower</th>\n",
       "      <td>-0.754276</td>\n",
       "      <td>0.821656</td>\n",
       "      <td>0.871927</td>\n",
       "      <td>1.000000</td>\n",
       "      <td>0.837987</td>\n",
       "      <td>-0.673940</td>\n",
       "      <td>-0.411587</td>\n",
       "      <td>-0.418636</td>\n",
       "    </tr>\n",
       "    <tr>\n",
       "      <th>weight</th>\n",
       "      <td>-0.831741</td>\n",
       "      <td>0.896017</td>\n",
       "      <td>0.932824</td>\n",
       "      <td>0.837987</td>\n",
       "      <td>1.000000</td>\n",
       "      <td>-0.417457</td>\n",
       "      <td>-0.306564</td>\n",
       "      <td>-0.581024</td>\n",
       "    </tr>\n",
       "    <tr>\n",
       "      <th>acceleration</th>\n",
       "      <td>0.420289</td>\n",
       "      <td>-0.505419</td>\n",
       "      <td>-0.543684</td>\n",
       "      <td>-0.673940</td>\n",
       "      <td>-0.417457</td>\n",
       "      <td>1.000000</td>\n",
       "      <td>0.288137</td>\n",
       "      <td>0.205873</td>\n",
       "    </tr>\n",
       "    <tr>\n",
       "      <th>model year</th>\n",
       "      <td>0.579267</td>\n",
       "      <td>-0.348746</td>\n",
       "      <td>-0.370164</td>\n",
       "      <td>-0.411587</td>\n",
       "      <td>-0.306564</td>\n",
       "      <td>0.288137</td>\n",
       "      <td>1.000000</td>\n",
       "      <td>0.180662</td>\n",
       "    </tr>\n",
       "    <tr>\n",
       "      <th>origin</th>\n",
       "      <td>0.563450</td>\n",
       "      <td>-0.562543</td>\n",
       "      <td>-0.609409</td>\n",
       "      <td>-0.418636</td>\n",
       "      <td>-0.581024</td>\n",
       "      <td>0.205873</td>\n",
       "      <td>0.180662</td>\n",
       "      <td>1.000000</td>\n",
       "    </tr>\n",
       "  </tbody>\n",
       "</table>\n",
       "</div>"
      ],
      "text/plain": [
       "                   mpg  cylinders  displacement  horsepower    weight  \\\n",
       "mpg           1.000000  -0.775396     -0.804203   -0.754276 -0.831741   \n",
       "cylinders    -0.775396   1.000000      0.950721    0.821656  0.896017   \n",
       "displacement -0.804203   0.950721      1.000000    0.871927  0.932824   \n",
       "horsepower   -0.754276   0.821656      0.871927    1.000000  0.837987   \n",
       "weight       -0.831741   0.896017      0.932824    0.837987  1.000000   \n",
       "acceleration  0.420289  -0.505419     -0.543684   -0.673940 -0.417457   \n",
       "model year    0.579267  -0.348746     -0.370164   -0.411587 -0.306564   \n",
       "origin        0.563450  -0.562543     -0.609409   -0.418636 -0.581024   \n",
       "\n",
       "              acceleration  model year    origin  \n",
       "mpg               0.420289    0.579267  0.563450  \n",
       "cylinders        -0.505419   -0.348746 -0.562543  \n",
       "displacement     -0.543684   -0.370164 -0.609409  \n",
       "horsepower       -0.673940   -0.411587 -0.418636  \n",
       "weight           -0.417457   -0.306564 -0.581024  \n",
       "acceleration      1.000000    0.288137  0.205873  \n",
       "model year        0.288137    1.000000  0.180662  \n",
       "origin            0.205873    0.180662  1.000000  "
      ]
     },
     "execution_count": 264,
     "metadata": {},
     "output_type": "execute_result"
    }
   ],
   "source": [
    "df.corr()"
   ]
  },
  {
   "cell_type": "code",
   "execution_count": 265,
   "metadata": {},
   "outputs": [
    {
     "data": {
      "image/png": "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\n",
      "text/plain": [
       "<Figure size 842.4x595.44 with 2 Axes>"
      ]
     },
     "metadata": {},
     "output_type": "display_data"
    }
   ],
   "source": [
    "#let plot a heat map of correlation\n",
    "correlation_matrix = df.corr().round(2)\n",
    "sns.set(rc={'figure.figsize':(11.7,8.27)})\n",
    "sns.heatmap(data=correlation_matrix, annot=True)\n",
    "plt.show()"
   ]
  },
  {
   "cell_type": "code",
   "execution_count": 266,
   "metadata": {},
   "outputs": [],
   "source": [
    "#our target value is 'mpg', according to the heatmap we can see the dependents variables weight horsepower displacement\n",
    "#cylinders is a multi-valued discrete"
   ]
  },
  {
   "cell_type": "code",
   "execution_count": 267,
   "metadata": {},
   "outputs": [
    {
     "data": {
      "image/png": "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\n",
      "text/plain": [
       "<Figure size 1440x360 with 3 Axes>"
      ]
     },
     "metadata": {},
     "output_type": "display_data"
    }
   ],
   "source": [
    "#ploting at the same time methods\n",
    "plt.figure(figsize=(20, 5))\n",
    "\n",
    "features = ['horsepower', 'displacement','weight']\n",
    "target = df['mpg']\n",
    "\n",
    "for i, col in enumerate(features):\n",
    "    plt.subplot(1, len(features) , i+1)\n",
    "    x = df[col]\n",
    "    y = target\n",
    "    sns.regplot(x, y, marker='o')\n",
    "    plt.title(col)\n",
    "    plt.xlabel(col)\n",
    "    plt.ylabel('mpg')"
   ]
  },
  {
   "cell_type": "code",
   "execution_count": 268,
   "metadata": {},
   "outputs": [],
   "source": [
    "#sklearn methods for data frame spliting to train and test df. "
   ]
  },
  {
   "cell_type": "code",
   "execution_count": 269,
   "metadata": {},
   "outputs": [],
   "source": [
    "yl = df.mpg\n",
    "Xl = df[['horsepower','displacement','weight']]\n"
   ]
  },
  {
   "cell_type": "code",
   "execution_count": 270,
   "metadata": {},
   "outputs": [
    {
     "data": {
      "text/html": [
       "<div>\n",
       "<style scoped>\n",
       "    .dataframe tbody tr th:only-of-type {\n",
       "        vertical-align: middle;\n",
       "    }\n",
       "\n",
       "    .dataframe tbody tr th {\n",
       "        vertical-align: top;\n",
       "    }\n",
       "\n",
       "    .dataframe thead th {\n",
       "        text-align: right;\n",
       "    }\n",
       "</style>\n",
       "<table border=\"1\" class=\"dataframe\">\n",
       "  <thead>\n",
       "    <tr style=\"text-align: right;\">\n",
       "      <th></th>\n",
       "      <th>horsepower</th>\n",
       "      <th>displacement</th>\n",
       "      <th>weight</th>\n",
       "    </tr>\n",
       "  </thead>\n",
       "  <tbody>\n",
       "    <tr>\n",
       "      <th>0</th>\n",
       "      <td>49.0</td>\n",
       "      <td>68.0</td>\n",
       "      <td>1867.0</td>\n",
       "    </tr>\n",
       "    <tr>\n",
       "      <th>1</th>\n",
       "      <td>74.0</td>\n",
       "      <td>105.0</td>\n",
       "      <td>2190.0</td>\n",
       "    </tr>\n",
       "    <tr>\n",
       "      <th>2</th>\n",
       "      <td>88.0</td>\n",
       "      <td>122.0</td>\n",
       "      <td>2500.0</td>\n",
       "    </tr>\n",
       "    <tr>\n",
       "      <th>3</th>\n",
       "      <td>110.0</td>\n",
       "      <td>258.0</td>\n",
       "      <td>3730.0</td>\n",
       "    </tr>\n",
       "    <tr>\n",
       "      <th>4</th>\n",
       "      <td>153.0</td>\n",
       "      <td>351.0</td>\n",
       "      <td>4154.0</td>\n",
       "    </tr>\n",
       "    <tr>\n",
       "      <th>...</th>\n",
       "      <td>...</td>\n",
       "      <td>...</td>\n",
       "      <td>...</td>\n",
       "    </tr>\n",
       "    <tr>\n",
       "      <th>75</th>\n",
       "      <td>62.0</td>\n",
       "      <td>89.0</td>\n",
       "      <td>2050.0</td>\n",
       "    </tr>\n",
       "    <tr>\n",
       "      <th>76</th>\n",
       "      <td>150.0</td>\n",
       "      <td>400.0</td>\n",
       "      <td>4997.0</td>\n",
       "    </tr>\n",
       "    <tr>\n",
       "      <th>77</th>\n",
       "      <td>75.0</td>\n",
       "      <td>108.0</td>\n",
       "      <td>2265.0</td>\n",
       "    </tr>\n",
       "    <tr>\n",
       "      <th>78</th>\n",
       "      <td>220.0</td>\n",
       "      <td>454.0</td>\n",
       "      <td>4354.0</td>\n",
       "    </tr>\n",
       "    <tr>\n",
       "      <th>79</th>\n",
       "      <td>125.0</td>\n",
       "      <td>350.0</td>\n",
       "      <td>3900.0</td>\n",
       "    </tr>\n",
       "  </tbody>\n",
       "</table>\n",
       "<p>80 rows × 3 columns</p>\n",
       "</div>"
      ],
      "text/plain": [
       "    horsepower  displacement  weight\n",
       "0         49.0          68.0  1867.0\n",
       "1         74.0         105.0  2190.0\n",
       "2         88.0         122.0  2500.0\n",
       "3        110.0         258.0  3730.0\n",
       "4        153.0         351.0  4154.0\n",
       "..         ...           ...     ...\n",
       "75        62.0          89.0  2050.0\n",
       "76       150.0         400.0  4997.0\n",
       "77        75.0         108.0  2265.0\n",
       "78       220.0         454.0  4354.0\n",
       "79       125.0         350.0  3900.0\n",
       "\n",
       "[80 rows x 3 columns]"
      ]
     },
     "execution_count": 270,
     "metadata": {},
     "output_type": "execute_result"
    }
   ],
   "source": [
    "Xl_train, Xl_test, yl_train, yl_test = sklearn.model_selection.train_test_split(Xl, yl, test_size=0.2)\n",
    "Xl_train.reset_index(drop = True) # reset_index only for reindexing because of some probleme on the 1st indexing\n",
    "Xl_test.reset_index(drop = True)  # reset_index only for reindexing because of some probleme on the 1st indexing"
   ]
  },
  {
   "cell_type": "code",
   "execution_count": 271,
   "metadata": {},
   "outputs": [],
   "source": [
    "#Numpy methods to data splitting \n",
    "target_features = df[['horsepower', 'displacement','weight','mpg']]\n",
    "\n",
    "msk = np.random.rand(len(df)) < 0.8\n",
    "train = target_features[msk] #80% portion of df\n",
    "test = target_features[~msk] #20% (the rest)\n",
    "\n",
    "train_x= np.asanyarray(train[['horsepower', 'displacement','weight']])\n",
    "train_y= np.asanyarray(train[['mpg']])"
   ]
  },
  {
   "cell_type": "code",
   "execution_count": 272,
   "metadata": {},
   "outputs": [],
   "source": [
    "#we need to fit the variables on a lineare regression model so we creat a LinearRegression object\n",
    "regr=linear_model.LinearRegression()"
   ]
  },
  {
   "cell_type": "code",
   "execution_count": 273,
   "metadata": {},
   "outputs": [
    {
     "data": {
      "text/plain": [
       "LinearRegression(copy_X=True, fit_intercept=True, n_jobs=None,\n",
       "         normalize=False)"
      ]
     },
     "execution_count": 273,
     "metadata": {},
     "output_type": "execute_result"
    }
   ],
   "source": [
    "regr.fit(Xl_train,yl_train) #regr.fit(train_x,train_y)\n",
    "regr\n",
    "#the model is well fitted now let test it"
   ]
  },
  {
   "cell_type": "code",
   "execution_count": 274,
   "metadata": {},
   "outputs": [
    {
     "data": {
      "text/plain": [
       "(array([32.35123886, 29.38960456, 27.07215396, 18.62048232, 13.99849489,\n",
       "        27.83302089, 25.04348477, 30.81951882, 30.96416641, 30.6064024 ,\n",
       "        26.2874053 , 30.38459412, 29.35417202, 28.0405318 , 23.68897338,\n",
       "        18.64495833, 21.71797151, 23.17781894, 14.86455052, 29.94285444,\n",
       "        18.63188076, 19.14261753, 30.90317734, 24.32813681, 10.23038233,\n",
       "        26.20183019, 34.25556529, 28.94686878, 25.14046458, 19.79146422,\n",
       "        24.08992683, 16.25027017, 24.06048977, 29.71408786, 23.00556352,\n",
       "        27.45709067, 30.50846573, 24.37230608, 28.89923723, 21.2002433 ,\n",
       "        30.31457946, 14.52731081, 12.90986983, 14.50536254, 14.12979653,\n",
       "        11.50900295, 13.90479392,  6.1988389 , 10.86993294, 28.43515916,\n",
       "        19.4638494 , 27.81789766, 12.78722455, 29.95836129, 27.6118608 ,\n",
       "        28.03140819,  7.52516169, 20.317168  , 23.96758964, 29.01405262,\n",
       "        19.69159173, 31.88358318, 24.63776677, 26.11473751, 12.23639224,\n",
       "        28.0584962 , 29.67539012, 26.76456345, 28.87737586, 22.98525675,\n",
       "        20.50928976, 25.38951856, 26.58337215,  9.00131974, 30.00888242,\n",
       "        30.71733475,  9.23928767, 28.92853126,  9.57784521, 16.42608397]),\n",
       " array([29. , 33. , 35. , 15. , 14. , 25.5, 19. , 34.1, 32. , 37. , 25. ,\n",
       "        32.3, 28. , 19. , 30. , 19.2, 15. , 15. , 13. , 36. , 17. , 16. ,\n",
       "        26. , 22. , 16. , 26. , 40.9, 29. , 25. , 19. , 24.3, 15. , 23. ,\n",
       "        33.5, 20. , 28. , 36. , 27. , 36. , 17. , 40.8, 17.5, 13. , 15. ,\n",
       "        13. , 14. , 15. , 12. , 11. , 26. , 18.6, 21. , 15. , 33.8, 25. ,\n",
       "        22. , 13. , 18. , 19.8, 27. , 18. , 32. , 23.5, 21. , 16. , 24. ,\n",
       "        34.7, 28. , 25. , 19. , 22.4, 24. , 20. , 14. , 37.3, 37.7, 11. ,\n",
       "        32.2, 14. , 23. ]))"
      ]
     },
     "execution_count": 274,
     "metadata": {},
     "output_type": "execute_result"
    }
   ],
   "source": [
    "expected=yl_test\n",
    "predicted=regr.predict(Xl_test) #or use predicted=regr.predict(test_x)\n",
    "predicted , np.array(expected)"
   ]
  },
  {
   "cell_type": "code",
   "execution_count": 275,
   "metadata": {},
   "outputs": [
    {
     "name": "stdout",
     "output_type": "stream",
     "text": [
      "model parameters : const 44.69501532269529  ; var std  [-0.03808939 -0.00779688 -0.00532791]  ; mean_squared_error 17.91124006234684 ; R^2 0.71966955852597\n"
     ]
    }
   ],
   "source": [
    "mse = np.mean((predicted-expected)**2)#residual sum of squares\n",
    "print (\"model parameters :\",\"const\",regr.intercept_,\" ; var std \" ,regr.coef_, \" ; mean_squared_error\",mse,\"; R^2\",regr.score(Xl_test, yl_test))\n",
    "#R^2 seems to be good\n",
    "#mse seems to be good"
   ]
  },
  {
   "cell_type": "code",
   "execution_count": 276,
   "metadata": {},
   "outputs": [],
   "source": [
    "#our equations y_hat= 44.75 - 0.03184319 * x_horsepower - 0.00891365 * x_displacement - 0.00542752 * x_weight"
   ]
  },
  {
   "cell_type": "code",
   "execution_count": 277,
   "metadata": {},
   "outputs": [
    {
     "data": {
      "image/png": "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\n",
      "text/plain": [
       "<Figure size 842.4x595.44 with 1 Axes>"
      ]
     },
     "metadata": {},
     "output_type": "display_data"
    }
   ],
   "source": [
    "sns.set(rc={'figure.figsize':(11.7,8.27)})\n",
    "sns.distplot(df[\"mpg\"], bins = 25)\n",
    "plt.show()\n",
    "#mpg hist"
   ]
  },
  {
   "cell_type": "code",
   "execution_count": 278,
   "metadata": {},
   "outputs": [
    {
     "data": {
      "text/plain": [
       "Text(0.5, 1.0, 'model year')"
      ]
     },
     "execution_count": 278,
     "metadata": {},
     "output_type": "execute_result"
    },
    {
     "data": {
      "image/png": "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\n",
      "text/plain": [
       "<Figure size 842.4x595.44 with 1 Axes>"
      ]
     },
     "metadata": {},
     "output_type": "display_data"
    }
   ],
   "source": [
    "plt.hist(df[\"model year\"])\n",
    "plt.xlabel(\"model year\")\n",
    "plt.ylabel(\"count\")\n",
    "plt.title(\"model year\")\n"
   ]
  },
  {
   "cell_type": "code",
   "execution_count": 279,
   "metadata": {},
   "outputs": [
    {
     "data": {
      "text/plain": [
       "<matplotlib.axes._subplots.AxesSubplot at 0x7f55651d0668>"
      ]
     },
     "execution_count": 279,
     "metadata": {},
     "output_type": "execute_result"
    },
    {
     "data": {
      "image/png": "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\n",
      "text/plain": [
       "<Figure size 842.4x595.44 with 1 Axes>"
      ]
     },
     "metadata": {},
     "output_type": "display_data"
    }
   ],
   "source": [
    "bins = np.linspace(min(df[\"model year\"]), max(df[\"model year\"]), 4)\n",
    "group_names=['70-74','75-79','80-83']\n",
    "df['modelyear_binned'] = pd.cut(df['model year'], bins, labels=group_names, include_lowest=True )\n",
    "sns.boxplot(x=\"modelyear_binned\", y=\"mpg\", data=df)"
   ]
  },
  {
   "cell_type": "code",
   "execution_count": 280,
   "metadata": {},
   "outputs": [
    {
     "data": {
      "image/png": "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\n",
      "text/plain": [
       "<Figure size 216x648 with 3 Axes>"
      ]
     },
     "metadata": {},
     "output_type": "display_data"
    }
   ],
   "source": [
    "g = sns.FacetGrid(df, row = \"modelyear_binned\")\n",
    "g = g.map(plt.hist, \"mpg\")\n",
    "plt.show()"
   ]
  },
  {
   "cell_type": "code",
   "execution_count": 281,
   "metadata": {},
   "outputs": [
    {
     "data": {
      "text/html": [
       "<div>\n",
       "<style scoped>\n",
       "    .dataframe tbody tr th:only-of-type {\n",
       "        vertical-align: middle;\n",
       "    }\n",
       "\n",
       "    .dataframe tbody tr th {\n",
       "        vertical-align: top;\n",
       "    }\n",
       "\n",
       "    .dataframe thead th {\n",
       "        text-align: right;\n",
       "    }\n",
       "</style>\n",
       "<table border=\"1\" class=\"dataframe\">\n",
       "  <thead>\n",
       "    <tr style=\"text-align: right;\">\n",
       "      <th></th>\n",
       "      <th>model year</th>\n",
       "      <th>modelyear_binned</th>\n",
       "    </tr>\n",
       "  </thead>\n",
       "  <tbody>\n",
       "    <tr>\n",
       "      <th>0</th>\n",
       "      <td>70</td>\n",
       "      <td>70-74</td>\n",
       "    </tr>\n",
       "    <tr>\n",
       "      <th>1</th>\n",
       "      <td>70</td>\n",
       "      <td>70-74</td>\n",
       "    </tr>\n",
       "    <tr>\n",
       "      <th>2</th>\n",
       "      <td>70</td>\n",
       "      <td>70-74</td>\n",
       "    </tr>\n",
       "    <tr>\n",
       "      <th>3</th>\n",
       "      <td>70</td>\n",
       "      <td>70-74</td>\n",
       "    </tr>\n",
       "    <tr>\n",
       "      <th>4</th>\n",
       "      <td>70</td>\n",
       "      <td>70-74</td>\n",
       "    </tr>\n",
       "    <tr>\n",
       "      <th>5</th>\n",
       "      <td>70</td>\n",
       "      <td>70-74</td>\n",
       "    </tr>\n",
       "    <tr>\n",
       "      <th>6</th>\n",
       "      <td>70</td>\n",
       "      <td>70-74</td>\n",
       "    </tr>\n",
       "    <tr>\n",
       "      <th>7</th>\n",
       "      <td>70</td>\n",
       "      <td>70-74</td>\n",
       "    </tr>\n",
       "    <tr>\n",
       "      <th>8</th>\n",
       "      <td>70</td>\n",
       "      <td>70-74</td>\n",
       "    </tr>\n",
       "    <tr>\n",
       "      <th>9</th>\n",
       "      <td>70</td>\n",
       "      <td>70-74</td>\n",
       "    </tr>\n",
       "    <tr>\n",
       "      <th>10</th>\n",
       "      <td>70</td>\n",
       "      <td>70-74</td>\n",
       "    </tr>\n",
       "    <tr>\n",
       "      <th>11</th>\n",
       "      <td>70</td>\n",
       "      <td>70-74</td>\n",
       "    </tr>\n",
       "    <tr>\n",
       "      <th>12</th>\n",
       "      <td>70</td>\n",
       "      <td>70-74</td>\n",
       "    </tr>\n",
       "    <tr>\n",
       "      <th>13</th>\n",
       "      <td>70</td>\n",
       "      <td>70-74</td>\n",
       "    </tr>\n",
       "    <tr>\n",
       "      <th>14</th>\n",
       "      <td>70</td>\n",
       "      <td>70-74</td>\n",
       "    </tr>\n",
       "    <tr>\n",
       "      <th>15</th>\n",
       "      <td>70</td>\n",
       "      <td>70-74</td>\n",
       "    </tr>\n",
       "    <tr>\n",
       "      <th>16</th>\n",
       "      <td>70</td>\n",
       "      <td>70-74</td>\n",
       "    </tr>\n",
       "    <tr>\n",
       "      <th>17</th>\n",
       "      <td>70</td>\n",
       "      <td>70-74</td>\n",
       "    </tr>\n",
       "    <tr>\n",
       "      <th>18</th>\n",
       "      <td>70</td>\n",
       "      <td>70-74</td>\n",
       "    </tr>\n",
       "    <tr>\n",
       "      <th>19</th>\n",
       "      <td>70</td>\n",
       "      <td>70-74</td>\n",
       "    </tr>\n",
       "  </tbody>\n",
       "</table>\n",
       "</div>"
      ],
      "text/plain": [
       "    model year modelyear_binned\n",
       "0           70            70-74\n",
       "1           70            70-74\n",
       "2           70            70-74\n",
       "3           70            70-74\n",
       "4           70            70-74\n",
       "5           70            70-74\n",
       "6           70            70-74\n",
       "7           70            70-74\n",
       "8           70            70-74\n",
       "9           70            70-74\n",
       "10          70            70-74\n",
       "11          70            70-74\n",
       "12          70            70-74\n",
       "13          70            70-74\n",
       "14          70            70-74\n",
       "15          70            70-74\n",
       "16          70            70-74\n",
       "17          70            70-74\n",
       "18          70            70-74\n",
       "19          70            70-74"
      ]
     },
     "execution_count": 281,
     "metadata": {},
     "output_type": "execute_result"
    }
   ],
   "source": [
    "df[['model year','modelyear_binned']].head(20)\n"
   ]
  },
  {
   "cell_type": "code",
   "execution_count": 282,
   "metadata": {},
   "outputs": [
    {
     "data": {
      "text/plain": [
       "70-74    152\n",
       "75-79    128\n",
       "80-83    118\n",
       "Name: modelyear_binned, dtype: int64"
      ]
     },
     "execution_count": 282,
     "metadata": {},
     "output_type": "execute_result"
    }
   ],
   "source": [
    "c=df[\"modelyear_binned\"].value_counts()\n",
    "c"
   ]
  },
  {
   "cell_type": "code",
   "execution_count": 283,
   "metadata": {},
   "outputs": [
    {
     "data": {
      "text/plain": [
       "<matplotlib.axes._subplots.AxesSubplot at 0x7f5564b58b38>"
      ]
     },
     "execution_count": 283,
     "metadata": {},
     "output_type": "execute_result"
    },
    {
     "data": {
      "image/png": "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\n",
      "text/plain": [
       "<Figure size 842.4x595.44 with 1 Axes>"
      ]
     },
     "metadata": {},
     "output_type": "display_data"
    }
   ],
   "source": [
    "sns.barplot(x=\"modelyear_binned\", y=\"mpg\", data=df)"
   ]
  },
  {
   "cell_type": "code",
   "execution_count": 284,
   "metadata": {},
   "outputs": [
    {
     "data": {
      "text/plain": [
       "<matplotlib.axes._subplots.AxesSubplot at 0x7f556579a390>"
      ]
     },
     "execution_count": 284,
     "metadata": {},
     "output_type": "execute_result"
    },
    {
     "data": {
      "image/png": "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\n",
      "text/plain": [
       "<Figure size 842.4x595.44 with 1 Axes>"
      ]
     },
     "metadata": {},
     "output_type": "display_data"
    }
   ],
   "source": [
    "sns.boxplot(x=\"modelyear_binned\", y=\"mpg\", data=df)"
   ]
  },
  {
   "cell_type": "code",
   "execution_count": 285,
   "metadata": {},
   "outputs": [],
   "source": [
    "df_group_one = df[['modelyear_binned','mpg']]\n"
   ]
  },
  {
   "cell_type": "code",
   "execution_count": 286,
   "metadata": {},
   "outputs": [
    {
     "data": {
      "text/html": [
       "<div>\n",
       "<style scoped>\n",
       "    .dataframe tbody tr th:only-of-type {\n",
       "        vertical-align: middle;\n",
       "    }\n",
       "\n",
       "    .dataframe tbody tr th {\n",
       "        vertical-align: top;\n",
       "    }\n",
       "\n",
       "    .dataframe thead th {\n",
       "        text-align: right;\n",
       "    }\n",
       "</style>\n",
       "<table border=\"1\" class=\"dataframe\">\n",
       "  <thead>\n",
       "    <tr style=\"text-align: right;\">\n",
       "      <th></th>\n",
       "      <th>modelyear_binned</th>\n",
       "      <th>mpg</th>\n",
       "    </tr>\n",
       "  </thead>\n",
       "  <tbody>\n",
       "    <tr>\n",
       "      <th>0</th>\n",
       "      <td>70-74</td>\n",
       "      <td>19.269737</td>\n",
       "    </tr>\n",
       "    <tr>\n",
       "      <th>1</th>\n",
       "      <td>75-79</td>\n",
       "      <td>22.360937</td>\n",
       "    </tr>\n",
       "    <tr>\n",
       "      <th>2</th>\n",
       "      <td>80-83</td>\n",
       "      <td>30.233898</td>\n",
       "    </tr>\n",
       "  </tbody>\n",
       "</table>\n",
       "</div>"
      ],
      "text/plain": [
       "  modelyear_binned        mpg\n",
       "0            70-74  19.269737\n",
       "1            75-79  22.360937\n",
       "2            80-83  30.233898"
      ]
     },
     "execution_count": 286,
     "metadata": {},
     "output_type": "execute_result"
    }
   ],
   "source": [
    "#let see mean of each model year (2methods)\n",
    "df_group_one = df_group_one.groupby(['modelyear_binned'],as_index=False).mean()\n",
    "df_group_one"
   ]
  },
  {
   "cell_type": "code",
   "execution_count": 287,
   "metadata": {},
   "outputs": [
    {
     "data": {
      "text/plain": [
       "{'classical cars mpg avg': 19.269736842105264,\n",
       " 'outoffashion cars mpg avg': 22.3609375,\n",
       " 'new mpg avg': 30.23389830508475}"
      ]
     },
     "execution_count": 287,
     "metadata": {},
     "output_type": "execute_result"
    }
   ],
   "source": [
    "classic = df.loc[df.modelyear_binned==\"70-74\", \"mpg\"]\n",
    "out_of_fashion = df.loc[df.modelyear_binned==\"75-79\", \"mpg\"]\n",
    "new = df.loc[df.modelyear_binned==\"80-83\",\"mpg\"]\n",
    "{\"classical cars mpg avg\":classic.mean() ,\"outoffashion cars mpg avg\":out_of_fashion.mean() ,\"new mpg avg\":new.mean() }"
   ]
  },
  {
   "cell_type": "code",
   "execution_count": 288,
   "metadata": {},
   "outputs": [
    {
     "data": {
      "text/plain": [
       "76.01005025125629"
      ]
     },
     "execution_count": 288,
     "metadata": {},
     "output_type": "execute_result"
    }
   ],
   "source": [
    "df['model year'].mean()"
   ]
  },
  {
   "cell_type": "code",
   "execution_count": 289,
   "metadata": {},
   "outputs": [],
   "source": [
    "#we can see that the 80-83 fashion have 30.23 in average the mpg average, we want to verifiy the next hypothesis h0:'vehicule of 80-83 years \n",
    "#consumes more galons per mile'"
   ]
  },
  {
   "cell_type": "code",
   "execution_count": 290,
   "metadata": {},
   "outputs": [
    {
     "name": "stdout",
     "output_type": "stream",
     "text": [
      "reject null hypothesis\n"
     ]
    }
   ],
   "source": [
    "#ANOVA test\n",
    "f,p=stats.f_oneway( out_of_fashion, classic,new)\n",
    "if p<0.05:\n",
    "    print(\"reject null hypothesis\")\n",
    "else:\n",
    "    print(\"accept null hypothesis\")"
   ]
  },
  
 
 "metadata": {
  "kernelspec": {
   "display_name": "Python",
   "language": "python",
   "name": "conda-env-python-py"
  },
  "language_info": {
   "codemirror_mode": {
    "name": "ipython",
    "version": 3
   },
   "file_extension": ".py",
   "mimetype": "text/x-python",
   "name": "python",
   "nbconvert_exporter": "python",
   "pygments_lexer": "ipython3",
   "version": "3.6.10"
  }
 },
 "nbformat": 4,
 "nbformat_minor": 4
}
